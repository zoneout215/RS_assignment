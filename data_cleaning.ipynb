{
 "cells": [
  {
   "cell_type": "code",
   "execution_count": 19,
   "metadata": {},
   "outputs": [],
   "source": [
    "import os\n",
    "import pandas as pd\n",
    "import numpy as np\n",
    "from tqdm  import tqdm\n",
    "import pickle\n",
    "import re\n",
    "import glob"
   ]
  },
  {
   "cell_type": "markdown",
   "source": [
    "# Data preparation"
   ],
   "metadata": {
    "collapsed": false,
    "pycharm": {
     "name": "#%% md\n"
    }
   }
  },
  {
   "cell_type": "code",
   "execution_count": null,
   "outputs": [],
   "source": [
    "# Set the directory path where the pickle files are located\n",
    "directory_path = os.getcwd() + '/ABC'\n",
    "\n",
    "################# PATH FOR JONAS ################# directory_path = os.getcwd() + '\\\\ABC'\n",
    "\n",
    "# Get a list of all the pickle files in the directory\n",
    "pickle_files = [os.path.join(directory_path, f) for f in os.listdir(directory_path) if f.endswith('.pkl') and f.startswith('full') == False ]\n",
    "\n",
    "# Load and concatenate the data from each file\n",
    "# create the empty dataframe with 13 columns\n",
    "\n",
    "concatenated_data = []\n",
    "for file in tqdm(pickle_files):\n",
    "    with open(file, 'rb') as f:\n",
    "        staged_data = pickle.load(f)\n",
    "        concatenated_data.append(staged_data)\n",
    "\n",
    "data = pd.concat(concatenated_data, axis=0)\n",
    "# adding id\n",
    "data['id'] = data.index\n",
    "cols = data.columns.tolist()\n",
    "cols = cols[-1:] + cols[:-1]\n",
    "data = data[cols]"
   ],
   "metadata": {
    "collapsed": false,
    "pycharm": {
     "name": "#%%\n"
    }
   }
  },
  {
   "cell_type": "code",
   "execution_count": null,
   "outputs": [],
   "source": [
    "with open(directory_path + '/full_data.pkl', 'rb') as f:\n",
    "    data = pickle.load(f)\n",
    "\n",
    "data.head(3)"
   ],
   "metadata": {
    "collapsed": false,
    "pycharm": {
     "name": "#%%\n"
    }
   }
  },
  {
   "cell_type": "code",
   "execution_count": null,
   "outputs": [],
   "source": [
    "# arts is incorrectly labelled as comedy, also good naming, and missing values\n",
    "\n",
    "data['category'].replace('Comedy', 'Arts', inplace = True)\n",
    "data.rename({'more':'directors_actors'}, axis = 1, inplace = True)\n",
    "data.replace(['No data found', 'No more information found', \n",
    "              'No title found', 'No tags found', 'No image found', 'No description found'], np.nan, inplace = True)\n",
    "\n",
    "data.info()"
   ],
   "metadata": {
    "collapsed": false,
    "pycharm": {
     "name": "#%%\n"
    }
   }
  },
  {
   "cell_type": "code",
   "execution_count": null,
   "outputs": [],
   "source": [
    "cols = list(data.columns)\n",
    "# dropping nans where it is necessary\n",
    "unwanted = ['directors_actors', 'rating', 'series']\n",
    "cols = [x for x in cols if x not in unwanted]\n",
    "\n",
    "clean = data.dropna(subset = cols)\n",
    "clean.info()"
   ],
   "metadata": {
    "collapsed": false,
    "pycharm": {
     "name": "#%%\n"
    }
   }
  },
  {
   "cell_type": "code",
   "execution_count": null,
   "outputs": [],
   "source": [
    "films = clean[(clean['series'].isna()) & (clean['category'] != 'News')]\n",
    "films.head(3)"
   ],
   "metadata": {
    "collapsed": false,
    "pycharm": {
     "name": "#%%\n"
    }
   }
  },
  {
   "cell_type": "markdown",
   "source": [
    "# Creating special columns for episodes"
   ],
   "metadata": {
    "collapsed": false,
    "pycharm": {
     "name": "#%% md\n"
    }
   }
  },
  {
   "cell_type": "code",
   "execution_count": null,
   "outputs": [],
   "source": [
    "seasons = []\n",
    "eps = []\n",
    "ep_descs = []\n",
    "\n",
    "for index, row in clean.iterrows():\n",
    "    i = index\n",
    "    txt = row.episode_name\n",
    "    try:\n",
    "        season = re.findall('Series [0-9]{1,2}', txt)[0]\n",
    "        season = re.findall('[0-9]+', season)[0]\n",
    "        seasons.append(season)\n",
    "    except:\n",
    "        seasons.append('')\n",
    "    try: \n",
    "        ep = re.findall('Episode [0-9]{1,2}', txt)[0]\n",
    "        ep = re.findall('[0-9]+', ep)[0]\n",
    "        eps.append(ep)\n",
    "    except:\n",
    "        eps.append('')\n",
    "    desc = re.sub('[0-9]+', '', txt)\n",
    "    desc = desc.replace('Series', '')\n",
    "    desc = desc.replace('Episode', '')\n",
    "    ep_descs.append(desc)"
   ],
   "metadata": {
    "collapsed": false,
    "pycharm": {
     "name": "#%%\n"
    }
   }
  },
  {
   "cell_type": "code",
   "execution_count": null,
   "outputs": [],
   "source": [
    "clean = clean.assign(season=seasons, episode=eps, episode_title=ep_descs)\n",
    "clean.head(3)"
   ],
   "metadata": {
    "collapsed": false,
    "pycharm": {
     "name": "#%%\n"
    }
   }
  },
  {
   "cell_type": "code",
   "execution_count": null,
   "outputs": [],
   "source": [
    "films = clean[(clean['series'].isna()) & (clean['category'] != 'News') & (clean['category'] != 'Panel Discussion')]\n",
    "\n",
    "with open(directory_path + '/full_movies.pkl', 'wb') as f:\n",
    "    pickle.dump(data, f)"
   ],
   "metadata": {
    "collapsed": false,
    "pycharm": {
     "name": "#%%\n"
    }
   }
  },
  {
   "cell_type": "code",
   "execution_count": null,
   "outputs": [],
   "source": [
    "# Write the concatenated data to a new file\n",
    "with open(directory_path + '/full_data.pkl', 'wb') as f:\n",
    "    pickle.dump(clean, f)"
   ],
   "metadata": {
    "collapsed": false,
    "pycharm": {
     "name": "#%%\n"
    }
   }
  },
  {
   "cell_type": "code",
   "execution_count": null,
   "outputs": [],
   "source": [
    "data[data['episode_name'].isna()]"
   ],
   "metadata": {
    "collapsed": false,
    "pycharm": {
     "name": "#%%\n"
    }
   }
  },
  {
   "cell_type": "code",
   "execution_count": null,
   "outputs": [],
   "source": [
    "test = data.dropna()\n",
    "\n",
    "test"
   ],
   "metadata": {
    "collapsed": false,
    "pycharm": {
     "name": "#%%\n"
    }
   }
  },
  {
   "cell_type": "code",
   "execution_count": null,
   "outputs": [],
   "source": [
    "series = list(test.series)\n",
    "titles = list(test.title)\n",
    "\n",
    "non_matches = []\n",
    "\n",
    "for i in range(len(series)):\n",
    "    if series[i] != titles[i]:\n",
    "        non_matches.append(i)\n",
    "\n",
    "len(non_matches)"
   ],
   "metadata": {
    "collapsed": false,
    "pycharm": {
     "name": "#%%\n"
    }
   }
  },
  {
   "cell_type": "code",
   "execution_count": null,
   "outputs": [],
   "source": [
    "series = list(data.series)\n",
    "titles = list(data.title)\n",
    "\n",
    "non_matches = []\n",
    "\n",
    "for i in range(len(series)):\n",
    "    if series[i] != titles[i]:\n",
    "        non_matches.append(i)\n",
    "        \n",
    "len(non_matches)"
   ],
   "metadata": {
    "collapsed": false,
    "pycharm": {
     "name": "#%%\n"
    }
   }
  },
  {
   "cell_type": "code",
   "execution_count": null,
   "outputs": [],
   "source": [
    "data.iloc[non_matches].category.value_counts()"
   ],
   "metadata": {
    "collapsed": false,
    "pycharm": {
     "name": "#%%\n"
    }
   }
  },
  {
   "cell_type": "code",
   "execution_count": null,
   "outputs": [],
   "source": [
    "test.iloc[3021]"
   ],
   "metadata": {
    "collapsed": false,
    "pycharm": {
     "name": "#%%\n"
    }
   }
  },
  {
   "cell_type": "code",
   "execution_count": null,
   "outputs": [],
   "source": [
    "## all the shows that don't have the same title and series name are some kind of bonus content for the same show: do we want to deal with this?"
   ],
   "metadata": {
    "collapsed": false,
    "pycharm": {
     "name": "#%%\n"
    }
   }
  },
  {
   "cell_type": "code",
   "execution_count": null,
   "outputs": [],
   "source": [
    "test.title"
   ],
   "metadata": {
    "collapsed": false,
    "pycharm": {
     "name": "#%%\n"
    }
   }
  },
  {
   "cell_type": "code",
   "execution_count": null,
   "outputs": [],
   "source": [
    "filtered = frame.dropna(subset = 'description2')\n",
    "\n",
    "desc = list(filtered.description2)"
   ],
   "metadata": {
    "collapsed": false,
    "pycharm": {
     "name": "#%%\n"
    }
   }
  },
  {
   "cell_type": "code",
   "execution_count": null,
   "outputs": [],
   "source": [
    "desc"
   ],
   "metadata": {
    "collapsed": false,
    "pycharm": {
     "name": "#%%\n"
    }
   }
  },
  {
   "cell_type": "code",
   "execution_count": null,
   "outputs": [],
   "source": [
    "x = []\n",
    "\n",
    "for i in range(len(desc)):\n",
    "    if \"found\" in desc[i]:\n",
    "        x.append(i)\n",
    "        \n",
    "x"
   ],
   "metadata": {
    "collapsed": false,
    "pycharm": {
     "name": "#%%\n"
    }
   }
  },
  {
   "cell_type": "code",
   "execution_count": null,
   "outputs": [],
   "source": [
    "filtered.iloc[521].description2"
   ],
   "metadata": {
    "collapsed": false,
    "pycharm": {
     "name": "#%%\n"
    }
   }
  },
  {
   "cell_type": "code",
   "execution_count": null,
   "outputs": [],
   "source": [
    "[filtered.iloc[i].description2 for i in x]"
   ],
   "metadata": {
    "collapsed": false,
    "pycharm": {
     "name": "#%%\n"
    }
   }
  },
  {
   "cell_type": "code",
   "execution_count": null,
   "outputs": [],
   "source": [
    "frame"
   ],
   "metadata": {
    "collapsed": false,
    "pycharm": {
     "name": "#%%\n"
    }
   }
  },
  {
   "cell_type": "code",
   "execution_count": null,
   "outputs": [],
   "source": [
    "frame.episode_name"
   ],
   "metadata": {
    "collapsed": false,
    "pycharm": {
     "name": "#%%\n"
    }
   }
  },
  {
   "cell_type": "code",
   "execution_count": null,
   "outputs": [],
   "source": [
    "frame.iterrows()[0]"
   ],
   "metadata": {
    "collapsed": false,
    "pycharm": {
     "name": "#%%\n"
    }
   }
  },
  {
   "cell_type": "code",
   "execution_count": null,
   "outputs": [],
   "source": [
    "row = next(frame.iterrows())[1]"
   ],
   "metadata": {
    "collapsed": false,
    "pycharm": {
     "name": "#%%\n"
    }
   }
  },
  {
   "cell_type": "code",
   "execution_count": null,
   "outputs": [],
   "source": [
    "row"
   ],
   "metadata": {
    "collapsed": false,
    "pycharm": {
     "name": "#%%\n"
    }
   }
  },
  {
   "cell_type": "code",
   "execution_count": null,
   "outputs": [],
   "source": [
    "for i in range(len(frame)):\n",
    "    row = next(frame.iterrows())[i + 1]\n",
    "    print(row.category)"
   ],
   "metadata": {
    "collapsed": false,
    "pycharm": {
     "name": "#%%\n"
    }
   }
  },
  {
   "cell_type": "code",
   "execution_count": null,
   "outputs": [],
   "source": [
    "frame.iterrows()"
   ],
   "metadata": {
    "collapsed": false,
    "pycharm": {
     "name": "#%%\n"
    }
   }
  },
  {
   "cell_type": "code",
   "execution_count": null,
   "outputs": [],
   "source": [
    "for row in frame.iterrows():\n",
    "    print(row.title)"
   ],
   "metadata": {
    "collapsed": false,
    "pycharm": {
     "name": "#%%\n"
    }
   }
  },
  {
   "cell_type": "code",
   "execution_count": null,
   "outputs": [],
   "source": [
    "for index, row in data.iterrows():\n",
    "    i = index\n",
    "    txt = row.episode_name\n",
    "    "
   ],
   "metadata": {
    "collapsed": false,
    "pycharm": {
     "name": "#%%\n"
    }
   }
  },
  {
   "cell_type": "code",
   "execution_count": null,
   "outputs": [],
   "source": [
    "txt = 'Series 13 Episode 11 More Unseen Bits'\n",
    "\n",
    "season = re.findall('Series [0-9]+', txt)[0]\n",
    "ep = re.findall('Episode [0-9]+', txt)[0]\n",
    "desc = txt.replace(season, '')\n",
    "desc = desc.replace(ep, '')\n",
    "\n",
    "[season, ep, desc]"
   ],
   "metadata": {
    "collapsed": false,
    "pycharm": {
     "name": "#%%\n"
    }
   }
  },
  {
   "cell_type": "code",
   "execution_count": null,
   "outputs": [],
   "source": [
    "clean.drop(columns = ['season', 'episode', 'episode_title'], inplace = True)"
   ],
   "metadata": {
    "collapsed": false,
    "pycharm": {
     "name": "#%%\n"
    }
   }
  },
  {
   "cell_type": "code",
   "execution_count": null,
   "outputs": [],
   "source": [
    "clean.columns"
   ],
   "metadata": {
    "collapsed": false,
    "pycharm": {
     "name": "#%%\n"
    }
   }
  },
  {
   "cell_type": "code",
   "execution_count": null,
   "outputs": [],
   "source": [
    "clean.category.unique()"
   ],
   "metadata": {
    "collapsed": false,
    "pycharm": {
     "name": "#%%\n"
    }
   }
  },
  {
   "cell_type": "code",
   "execution_count": null,
   "outputs": [],
   "source": [
    "display(clean.loc[(clean['category'] == 'Arts') & (clean['duration_sec'] > 3600)])"
   ],
   "metadata": {
    "collapsed": false,
    "pycharm": {
     "name": "#%%\n"
    }
   }
  },
  {
   "cell_type": "code",
   "execution_count": null,
   "outputs": [],
   "source": [
    "clean[clean['category'] == 'Movies']"
   ],
   "metadata": {
    "collapsed": false,
    "pycharm": {
     "name": "#%%\n"
    }
   }
  },
  {
   "cell_type": "code",
   "execution_count": null,
   "outputs": [],
   "source": [
    "clean.loc[np.where((clean['category'] == 'Arts') & (clean['duration_sec'] > 3600))]"
   ],
   "metadata": {
    "collapsed": false,
    "pycharm": {
     "name": "#%%\n"
    }
   }
  },
  {
   "cell_type": "code",
   "execution_count": null,
   "outputs": [],
   "source": [
    "clean[clean['category'] == 'Arts'] & clean['duration_sec'] > 3600"
   ],
   "metadata": {
    "collapsed": false,
    "pycharm": {
     "name": "#%%\n"
    }
   }
  },
  {
   "cell_type": "code",
   "execution_count": null,
   "outputs": [],
   "source": [
    " clean[clean[clean['category'] == Arts]] & clean['duration_sec'] > 3600]"
   ],
   "metadata": {
    "collapsed": false,
    "pycharm": {
     "name": "#%%\n"
    }
   }
  },
  {
   "cell_type": "code",
   "execution_count": null,
   "outputs": [],
   "source": [
    "clean"
   ],
   "metadata": {
    "collapsed": false,
    "pycharm": {
     "name": "#%%\n"
    }
   }
  },
  {
   "cell_type": "code",
   "execution_count": null,
   "outputs": [],
   "source": [
    "clean.assign(season = seasons, inplace = True)\n",
    "\n",
    "clean.head(10)"
   ],
   "metadata": {
    "collapsed": false,
    "pycharm": {
     "name": "#%%\n"
    }
   }
  },
  {
   "cell_type": "code",
   "execution_count": null,
   "outputs": [],
   "source": [
    "for i in range(len(extracted_episodes_dict)):\n",
    "    row = extracted_episodes_dict[i]\n",
    "    clean.loc[i].season = row[0]\n",
    "    clean.loc[i].episode = row[1]\n",
    "    clean.loc[i].episode_description = row[2]\n",
    "    \n",
    "clean\n",
    "    \n",
    "    "
   ],
   "metadata": {
    "collapsed": false,
    "pycharm": {
     "name": "#%%\n"
    }
   }
  },
  {
   "cell_type": "code",
   "execution_count": null,
   "outputs": [],
   "source": [
    "frame"
   ],
   "metadata": {
    "collapsed": false,
    "pycharm": {
     "name": "#%%\n"
    }
   }
  },
  {
   "cell_type": "code",
   "execution_count": null,
   "outputs": [],
   "source": [
    "tags2 = list(clean.tags2.dropna())"
   ],
   "metadata": {
    "collapsed": false,
    "pycharm": {
     "name": "#%%\n"
    }
   }
  },
  {
   "cell_type": "code",
   "execution_count": null,
   "outputs": [],
   "source": [
    "tags2"
   ],
   "metadata": {
    "collapsed": false,
    "pycharm": {
     "name": "#%%\n"
    }
   }
  },
  {
   "cell_type": "code",
   "execution_count": null,
   "outputs": [],
   "source": [
    "clean[clean['title'] == 'Would I Lie To You?'].sort_values(by = ['season', 'episode'])"
   ],
   "metadata": {
    "collapsed": false,
    "pycharm": {
     "name": "#%%\n"
    }
   }
  },
  {
   "cell_type": "code",
   "execution_count": null,
   "outputs": [],
   "source": [
    "clean.loc[13446] == clean.loc[13883]"
   ],
   "metadata": {
    "collapsed": false,
    "pycharm": {
     "name": "#%%\n"
    }
   }
  },
  {
   "cell_type": "code",
   "execution_count": null,
   "outputs": [],
   "source": [
    "clean.loc[13446, 'image']"
   ],
   "metadata": {
    "collapsed": false,
    "pycharm": {
     "name": "#%%\n"
    }
   }
  },
  {
   "cell_type": "code",
   "execution_count": null,
   "outputs": [],
   "source": [
    "clean.loc[13883, 'image']"
   ],
   "metadata": {
    "collapsed": false,
    "pycharm": {
     "name": "#%%\n"
    }
   }
  },
  {
   "cell_type": "code",
   "execution_count": null,
   "outputs": [],
   "source": [
    "def allUnique(x):\n",
    "    seen = set()\n",
    "    return not any(i in seen or seen.add(i) for i in x)"
   ],
   "metadata": {
    "collapsed": false,
    "pycharm": {
     "name": "#%%\n"
    }
   }
  },
  {
   "cell_type": "code",
   "execution_count": null,
   "outputs": [],
   "source": [
    "allUnique(list(clean['title']))"
   ],
   "metadata": {
    "collapsed": false,
    "pycharm": {
     "name": "#%%\n"
    }
   }
  },
  {
   "cell_type": "code",
   "execution_count": 282,
   "metadata": {},
   "outputs": [
    {
     "data": {
      "text/plain": [
       "{'100 Bloody Acres',\n",
       " '13 Assassins',\n",
       " '199 Little Heroes',\n",
       " '30 Days Of Night',\n",
       " '7.30',\n",
       " '7.30 Mark Humphries Satire',\n",
       " '7.30: The Interviews',\n",
       " '72 Cutest Animals',\n",
       " \"A Dog's World With Tony Armstrong\",\n",
       " 'A Raisin In The Sun',\n",
       " 'A Royal Night Out',\n",
       " 'A Secret',\n",
       " \"A Stargazer's Guide To The Cosmos (2018)\",\n",
       " 'ABC Education Good Mornings',\n",
       " 'ABC Late News',\n",
       " 'ABC Late News Weekend',\n",
       " 'ABC News ACT',\n",
       " 'ABC News At Noon',\n",
       " 'ABC News At Noon Weekend',\n",
       " 'ABC News Mornings',\n",
       " 'ABC News NSW',\n",
       " 'ABC News NT',\n",
       " 'ABC News QLD',\n",
       " 'ABC News Regional',\n",
       " 'ABC News SA',\n",
       " 'ABC News Stories',\n",
       " 'ABC News TAS',\n",
       " 'ABC News VIC',\n",
       " 'ABC News Video Lab',\n",
       " 'ABC News WA',\n",
       " 'ABC News With Auslan',\n",
       " 'ABC SingSong',\n",
       " 'Accidents Happen',\n",
       " 'Accused',\n",
       " 'Ackley Bridge',\n",
       " 'Adam Hills: The Last Leg',\n",
       " 'Adaptation',\n",
       " 'Adoration',\n",
       " 'Advice To My 12 Year Old Self',\n",
       " 'Afternoon Briefing',\n",
       " 'Against All Odds: Inside Statistics',\n",
       " 'Ageless Friendships',\n",
       " 'Alan Kohler Explains',\n",
       " 'All-Round Champion',\n",
       " \"Alva's World\",\n",
       " 'Amelia Parker',\n",
       " 'An Accidental Soldier',\n",
       " 'Ana Pumpkin',\n",
       " 'And We Danced',\n",
       " 'And When Did You Last See Your Father?',\n",
       " 'Andy And The Band',\n",
       " \"Andy's Safari Adventures\",\n",
       " \"Andy's Secret Hideout\",\n",
       " 'Angel',\n",
       " \"Anh's Brush With Fame\",\n",
       " 'Annika',\n",
       " 'Another Year',\n",
       " 'Are You Tougher Than Your Ancestors?',\n",
       " 'Armadillo: Narrated By David Attenborough',\n",
       " 'Art Blast',\n",
       " 'Art With Mati And Dada',\n",
       " 'Art Works',\n",
       " 'Arthur',\n",
       " 'Ask The Doctor',\n",
       " 'Athleticus',\n",
       " 'Atom Bond',\n",
       " 'Attenborough And The Empire Of The Ants',\n",
       " 'Australia Debates',\n",
       " \"Australia Remastered: Australia's Oceans\",\n",
       " 'Australia Remastered: Forces of Nature',\n",
       " \"Australia Remastered: Nature's Great Divide\",\n",
       " 'Australia Remastered: Wild Australians',\n",
       " 'Australia Remastered: Wild Treasures',\n",
       " 'Australia Remastered: Wild Wars',\n",
       " \"Australia's Ocean Odyssey: A Journey Down The East Australian Current\",\n",
       " \"Australia's Prime Ministers\",\n",
       " 'Australian Of The Year Profiles 2022',\n",
       " 'Australian Story',\n",
       " 'Auto Focus',\n",
       " 'Awakenings',\n",
       " 'BTN',\n",
       " 'BTN Specials',\n",
       " 'BTN: Antarctica Special',\n",
       " 'BTN: Media Literacy',\n",
       " 'Back In Time For Dinner',\n",
       " 'Back In Time For Dinner: Education Shorts',\n",
       " 'Back Roads Kids',\n",
       " 'Back To Earth: Stargazing Live',\n",
       " 'Back To Nature',\n",
       " 'Bad Nature',\n",
       " 'Ballet Now',\n",
       " 'Bananas In Pyjamas',\n",
       " \"Bangarra's World\",\n",
       " \"Barney's Barrier Reef\",\n",
       " 'Barrenjoey Road',\n",
       " \"Barrie Cassidy's One Plus One\",\n",
       " 'Basketball: WNBL',\n",
       " \"Becca's Bunch\",\n",
       " 'Becoming Jane',\n",
       " 'Bed Of Roses',\n",
       " 'Bee Cause',\n",
       " 'Being Julia',\n",
       " 'Belgravia',\n",
       " \"Ben And Holly's Little Kingdom\",\n",
       " 'Between A Frock And A Hard Place',\n",
       " 'Beyond The Towers',\n",
       " 'Big Block SingSong',\n",
       " 'Big Deal',\n",
       " \"Big Ted's Big Adventure\",\n",
       " 'Big Weather (and how to survive it)',\n",
       " 'Big Weather (and how to survive it) (Simplified Chinese Subtitles)',\n",
       " 'Big Words Small Stories',\n",
       " 'Bing',\n",
       " 'Bird Nerd: The Art Of Leila Jeffreys',\n",
       " 'Birdsong',\n",
       " 'Bistro Escargot',\n",
       " 'Blasko',\n",
       " 'Blessed',\n",
       " 'Bluey',\n",
       " 'Bluey (Mandarin)',\n",
       " 'Bob & Carol & Ted & Alice',\n",
       " 'Bob The Builder',\n",
       " 'Bonnie and Clyde',\n",
       " 'Book Hungry Bears',\n",
       " 'Book Hungry Bears (Mandarin)',\n",
       " 'Books That Made Us',\n",
       " 'Born To Spy',\n",
       " 'Boyer Lecture 2017: Professor Genevieve Bell',\n",
       " 'Boyer Lecture 2019: Rachel Perkins',\n",
       " 'Boyer Lecture: Andrew Forrest',\n",
       " 'Brave Bunnies',\n",
       " 'Bright Young Things',\n",
       " 'Bringing Books to Life',\n",
       " 'Bronwyn Oliver: The Shadows Within',\n",
       " 'Bucket',\n",
       " 'Buddi',\n",
       " 'Budget 2022: An ABC News Special',\n",
       " 'Bug Technology',\n",
       " 'Buried',\n",
       " 'COP26: Towards Zero',\n",
       " 'Call The Midwife',\n",
       " 'Can We Save The Reef?',\n",
       " 'Capital',\n",
       " 'Catalyst',\n",
       " 'Catching A Killer',\n",
       " 'Census 2021: Why We Count',\n",
       " 'Census: Why We Count (2021)',\n",
       " 'Charlie And Lola',\n",
       " \"Charlie's Country\",\n",
       " 'Chemistry: Challenges And Solutions',\n",
       " 'Cheri',\n",
       " 'Chicken People',\n",
       " 'Children Of The Revolution',\n",
       " 'Children of the Holocaust',\n",
       " 'China Tonight',\n",
       " \"China's Artful Dissident\",\n",
       " 'Chopsticks Or Fork?',\n",
       " 'Cinderella',\n",
       " 'Circle Square',\n",
       " 'Citizen Code',\n",
       " 'Classic Countdown',\n",
       " 'Cliffy',\n",
       " 'Close Of Business',\n",
       " 'Colourful Weather',\n",
       " 'Come Home',\n",
       " 'Compass',\n",
       " 'Concert For Ukraine',\n",
       " 'Control',\n",
       " 'Convict Kids',\n",
       " \"Cookie Monster's Foodie Truck\",\n",
       " 'Coppelia',\n",
       " 'Coriolanus',\n",
       " 'Countdown To War',\n",
       " 'Create',\n",
       " 'Creating A Nation',\n",
       " 'Creation',\n",
       " 'Cubs',\n",
       " 'Curious George',\n",
       " 'Cyber Dreaming',\n",
       " 'Dan Sultan: Nali and Friends',\n",
       " \"Daniel Tiger's Neighbourhood\",\n",
       " 'Dates That Made History',\n",
       " \"David Attenborough's Conquest Of The Skies\",\n",
       " \"David Attenborough's First Life\",\n",
       " \"David Attenborough's Flying Monsters\",\n",
       " \"David Attenborough's Galapagos\",\n",
       " \"David Attenborough's Global Adventure\",\n",
       " \"David Attenborough's Great Barrier Reef\",\n",
       " \"David Attenborough's Kingdom Of Plants\",\n",
       " \"David Attenborough's Life That Glows\",\n",
       " \"David Attenborough's Micro Monsters\",\n",
       " \"David Attenborough's Natural History Museum Alive\",\n",
       " \"David Attenborough's Rise Of Animals\",\n",
       " \"David Attenborough's Tasmania\",\n",
       " 'Dead Europe',\n",
       " 'Deadly Family Portraits: Crombie Crew',\n",
       " 'Deadly Family Portraits: Electric Mimili',\n",
       " 'Deadly Family Portraits: Sansbury Sisters',\n",
       " 'Death In Paradise',\n",
       " 'Decoding Danger',\n",
       " \"Deep Dive Into Australia's Ocean Odyssey\",\n",
       " 'Dementia & Us',\n",
       " 'Desert Metal Dreaming',\n",
       " \"Devil's Knot\",\n",
       " 'Dino Dana',\n",
       " 'Dinosaur Train',\n",
       " 'Doc Martin',\n",
       " 'Doc Martin: On The Edge',\n",
       " 'Doctor Who',\n",
       " 'Dodo',\n",
       " 'Dog Loves Books',\n",
       " 'Doing It In Public: The Kaldor Projects Education Shorts',\n",
       " 'Dot.',\n",
       " 'Dr Kwane: The Street Vet',\n",
       " 'Dragons: Defenders Of Berk',\n",
       " 'Dragons: Riders Of Berk',\n",
       " 'Dubboo: Life Of A Songman',\n",
       " 'EXPOSED: The Case Of Keli Lane',\n",
       " 'EXPOSED: The Ghost Train Fire',\n",
       " 'Eco Eye: Sustainable Solutions',\n",
       " 'Ecomaths',\n",
       " 'Emma!',\n",
       " 'Employable Me Australia',\n",
       " 'English On The Go',\n",
       " 'Enslaved',\n",
       " 'Ethics Matters',\n",
       " 'Everyday English',\n",
       " 'Exploration India',\n",
       " 'Extraordinary Escapes',\n",
       " 'F*!#ing Adelaide',\n",
       " 'Fake Or Fortune?',\n",
       " 'Fall In Love With Music',\n",
       " 'Father Brown',\n",
       " 'Fierce Earth',\n",
       " 'Fight For Planet A: Our Climate Challenge',\n",
       " 'Fight For Planet A: Our Climate Challenge (Simplified Chinese Subtitles)',\n",
       " 'Find Me In Paris',\n",
       " 'Finding The Archibald',\n",
       " 'Fireflies',\n",
       " 'Fireman Sam',\n",
       " 'Fires',\n",
       " 'First Nation Farmers',\n",
       " 'Five Easy Pieces',\n",
       " 'Floogals',\n",
       " 'Fly Me To The Moon',\n",
       " 'Flying Swords of Dragon Gate',\n",
       " 'Foreign Correspondent',\n",
       " 'Foreign Correspondent: The Rise Of China',\n",
       " 'Four Corners',\n",
       " 'Four Corners (Simplified Chinese Subtitles)',\n",
       " 'Four Corners Classics',\n",
       " 'Freddie Mercury: The Final Act',\n",
       " 'Friday Briefing',\n",
       " 'Full Proof',\n",
       " 'Funny Girl',\n",
       " 'Further Back In Time For Dinner',\n",
       " 'Further Back In Time For Dinner (Simplified Chinese Subtitles)',\n",
       " 'Further Back In Time For Dinner: Daily Life In The Past',\n",
       " 'Further Back In Time For Dinner: The Development Of A Nation',\n",
       " 'Gardening Australia - My Garden Path',\n",
       " 'George The Farmer',\n",
       " 'Get Grubby TV',\n",
       " 'Get Into Textiles',\n",
       " 'Get It Together!',\n",
       " 'Get My Job',\n",
       " 'Ghost Stories',\n",
       " 'Giggle And Hoot',\n",
       " 'Gilda',\n",
       " 'Glue',\n",
       " 'Go Jetters',\n",
       " 'Go Wild For Maths',\n",
       " 'Going Country',\n",
       " 'Goldstone',\n",
       " 'Good Game Spawn Point',\n",
       " 'Grandpa Honeyant Storytime',\n",
       " 'Grantchester',\n",
       " 'Greetings From Tim Buckley',\n",
       " 'Greta Thunberg: A Year To Change The World',\n",
       " \"Griff's Great Australian Rail Trip\",\n",
       " \"Griff's Great Kiwi Road Trip\",\n",
       " 'Growing Up In The Early 1900s',\n",
       " 'Gruen',\n",
       " 'Gruen Pitch',\n",
       " \"Guess Who's Coming To Dinner\",\n",
       " 'Hank Zipzer',\n",
       " \"Hannah Gadsby's Nakedy Nudes\",\n",
       " \"Hannah Gadsby's OZ\",\n",
       " 'Hard Quiz',\n",
       " 'Hardball',\n",
       " 'Harrow',\n",
       " 'Hello Stranger',\n",
       " 'Help! My Kid Is A Gamer!',\n",
       " 'Hey Duggee',\n",
       " 'Hey You, What If?',\n",
       " 'Heywire',\n",
       " 'Hinterland',\n",
       " 'Hitsville: The Making Of Motown',\n",
       " 'Hitting Home With Sarah Ferguson',\n",
       " 'Holly Hobbie',\n",
       " 'Hoot Hoot Go!',\n",
       " 'Horrible Histories',\n",
       " 'House Of Sound',\n",
       " 'How To Live Younger',\n",
       " 'How To Make: Brainy Bites',\n",
       " 'Human Touch',\n",
       " \"Humpty's Big Adventure\",\n",
       " 'Hunger',\n",
       " \"I Can't Go To School Today\",\n",
       " \"I'm A Creepy Crawly\",\n",
       " \"I'm A Fish\",\n",
       " \"I'm Not There\",\n",
       " \"I'm Recyclable Get Me Out Of Here\",\n",
       " \"I'm Wanita\",\n",
       " 'I, Daniel Blake',\n",
       " 'ITCH',\n",
       " 'If You See It, You Can Be It',\n",
       " 'Imagine This',\n",
       " 'In My Shoes: China',\n",
       " 'In The Night Garden',\n",
       " 'Infamous',\n",
       " 'Innocent',\n",
       " 'Inside The Met',\n",
       " 'Insiders',\n",
       " 'Insiders: From The Couch',\n",
       " 'Insiders: Talking Pictures',\n",
       " 'Insiders: The Interviews',\n",
       " 'Insidious',\n",
       " 'Invisible Wars',\n",
       " 'JUNK: Flying Fruit Fly Circus',\n",
       " 'Jack Irish',\n",
       " 'Jack Irish Specials',\n",
       " 'Jaimen Hudson: From Sky To Sea',\n",
       " 'Janet King',\n",
       " 'January 26',\n",
       " \"Jemima's Big Adventure\",\n",
       " \"Joey's Big Adventure\",\n",
       " \"Julia Zemiro's Home Delivery\",\n",
       " 'Just Between Us',\n",
       " 'Justine Clarke: Pyjama Jam',\n",
       " 'Justine Clarke: Songs To Make You Smile',\n",
       " 'K-POP! Academy',\n",
       " 'Kangaroo Beach',\n",
       " 'Kangaroo Beach (Mandarin)',\n",
       " 'Kangaroo Beach Songs',\n",
       " 'Kangaroo Beach Summer Special',\n",
       " 'Keeko',\n",
       " 'Keeping Australia Safe',\n",
       " \"Kevin McCloud's Grand Tour\",\n",
       " 'Kiddets',\n",
       " 'Kiddets (Mandarin)',\n",
       " 'Kids Listen: Story Salad',\n",
       " 'Kids of Courage',\n",
       " 'Killing Eve',\n",
       " 'Kiri and Lou',\n",
       " \"Koumi's Animated Picture Book\",\n",
       " 'Kung Fu Panda: Legends Of Awesomeness',\n",
       " 'La Bamba',\n",
       " 'La Paquita',\n",
       " \"Lah-Lah's Adventures\",\n",
       " \"Lah-Lah's Adventures: Songs\",\n",
       " \"Lah-Lah's Big Live Band\",\n",
       " \"Lah-Lah's Stripy Sock Club\",\n",
       " \"Lah-Lah's Stripy Sock Club: Songs\",\n",
       " 'Land Girls',\n",
       " 'Languages Of Our Land',\n",
       " \"Laura's Choice\",\n",
       " 'Learn A Word',\n",
       " 'Les Miserables',\n",
       " 'Lest We Forget What? Education Shorts',\n",
       " \"Let's Dance\",\n",
       " 'Life Chat With Learn English',\n",
       " 'Like Minds',\n",
       " 'Listen Up',\n",
       " 'Little Fish',\n",
       " 'Little J And Big Cuz Indigenous Languages',\n",
       " 'Little Lunch',\n",
       " 'Little Lunch Specials',\n",
       " 'Little Princess',\n",
       " \"Little Ted's Big Adventure\",\n",
       " 'Living The Dream',\n",
       " 'Living With Fire',\n",
       " 'London Spy',\n",
       " 'Look Kool',\n",
       " 'Looking For Eric',\n",
       " 'Lore',\n",
       " 'Lost In Translation: Understanding Japan',\n",
       " \"Louis Theroux's Forbidden America\",\n",
       " 'Louis Theroux: Shooting Joe Exotic',\n",
       " 'Love On The Spectrum',\n",
       " 'Luke Warm Sex',\n",
       " 'Luo Bao Bei',\n",
       " 'Luo Bao Bei (Mandarin)',\n",
       " 'MY:24',\n",
       " 'Mabo',\n",
       " 'Machete Kills',\n",
       " \"Maddie's Do You Know?\",\n",
       " 'Maddie, Space And You',\n",
       " 'Maddie, The Home And You',\n",
       " 'Maddie, The Plants And You',\n",
       " 'Making Muriel',\n",
       " \"Making Of David Attenborough's Natural History Museum Alive\",\n",
       " 'Man Up',\n",
       " 'Managing Populations',\n",
       " 'Manhunt',\n",
       " 'Manolo: The Boy Who Made Shoes For Lizards',\n",
       " 'Many Lands, Many Seasons',\n",
       " 'Marking Time',\n",
       " 'MathXplosion',\n",
       " 'MaveriX',\n",
       " 'Media Bites',\n",
       " 'Media Watch',\n",
       " 'Meet The Mavericks',\n",
       " 'Midsomer Murders',\n",
       " 'Midsomer Murders: 20th Anniversary Special',\n",
       " 'Mikki vs the World',\n",
       " 'Mindful Earth',\n",
       " 'Mini Lessons',\n",
       " 'Mini Lessons: English',\n",
       " 'Mini Lessons: Maths',\n",
       " 'Mini Lessons: Science Primary',\n",
       " 'Mini Lessons: Science Secondary',\n",
       " 'Minibeast Heroes',\n",
       " 'Miriam & Alan: Lost In Scotland',\n",
       " 'Miriam Margolyes Almost Australian',\n",
       " \"Miriam's Deathly Adventure\",\n",
       " \"Miss Fisher's Murder Mysteries\",\n",
       " 'Mission Songs Project',\n",
       " 'Mixed Up Maths',\n",
       " 'Mock The Week',\n",
       " 'Molly And Mack',\n",
       " 'Monash And Me',\n",
       " 'Moodies',\n",
       " 'Moon and Me',\n",
       " 'Moon and Me (Mandarin)',\n",
       " 'Mr Deeds Goes To Town',\n",
       " 'Mr Smith Goes To Washington',\n",
       " 'Ms Represented with Annabel Crabb',\n",
       " 'Murray Whelan: Stiff',\n",
       " 'Murray Whelan: The Brush Off',\n",
       " 'Muster Dogs',\n",
       " 'My Body Says',\n",
       " 'My Five Cents',\n",
       " 'My Girl',\n",
       " 'My Kingdom',\n",
       " 'My Life',\n",
       " \"My Life in Hitler's Germany\",\n",
       " 'My Little Songs',\n",
       " 'My Place',\n",
       " 'My Tehran For Sale',\n",
       " 'Mystery Road',\n",
       " 'Mystery Road (Simplified Chinese Subtitles)',\n",
       " 'Mystic',\n",
       " 'Mythbusters \"There\\'s Your Problem!\"',\n",
       " 'National Press Club Address',\n",
       " 'National Treasure',\n",
       " 'Nella the Princess Knight',\n",
       " 'New Normal',\n",
       " 'Newcastle',\n",
       " \"Newton's Law\",\n",
       " 'No Friend But The Mountains: A Voyage Through Song',\n",
       " 'No Offence',\n",
       " 'Noddy Toyland Detective',\n",
       " 'Noughts + Crosses',\n",
       " 'Nowhere Boys',\n",
       " 'Numberblocks',\n",
       " 'Octonauts',\n",
       " 'Odd Squad',\n",
       " 'Odd Squad Healthy Habits',\n",
       " 'Odo',\n",
       " 'Offsiders',\n",
       " \"Old People's Home For 4 Year Olds\",\n",
       " 'Oliver!',\n",
       " 'Olobob Top',\n",
       " 'On A Clear Day',\n",
       " 'On The Road',\n",
       " 'On The Waterfront',\n",
       " 'Once',\n",
       " 'One Plus One',\n",
       " 'One, Two, Threebies!',\n",
       " 'Only God Forgives',\n",
       " 'Operation Buffalo',\n",
       " 'Operation Ouch!',\n",
       " 'Operation Ouch! Hospital Takeover',\n",
       " 'Operation Ouch!: Do Try This At Home',\n",
       " 'Our Dawn',\n",
       " 'PJ Masks',\n",
       " 'Pablo',\n",
       " 'Paranoia',\n",
       " 'Paranormal Activity',\n",
       " 'Party Tricks',\n",
       " 'Patchwork Pals',\n",
       " 'Patrick Melrose',\n",
       " 'Pecking Order',\n",
       " 'Peg + Cat',\n",
       " 'Peggy Sue Got Married',\n",
       " 'Pencil Pals',\n",
       " 'Peppa Pig',\n",
       " 'Peppa Pig (Mandarin)',\n",
       " 'Peter Rabbit',\n",
       " 'Philomena',\n",
       " 'Physics House',\n",
       " 'Pina',\n",
       " 'Pingu In The City',\n",
       " 'Pins And Nettie',\n",
       " 'Pip And Posy',\n",
       " \"Pip's Tips\",\n",
       " 'Places In The Heart',\n",
       " 'Planet America',\n",
       " 'Play School',\n",
       " 'Play School Art Crew',\n",
       " 'Play School Art Time',\n",
       " 'Play School At Home',\n",
       " 'Play School Nursery Rhyme News Time',\n",
       " 'Play School Science Time',\n",
       " 'Play School Show Time',\n",
       " 'Play School Story Time',\n",
       " 'Play School Story Time: Languages',\n",
       " 'Play School: Stop, Look, Listen',\n",
       " 'Play School: Through The Windows',\n",
       " 'Pocket Compass',\n",
       " 'Pocoyo',\n",
       " 'Poetry: Between The Lines',\n",
       " 'Poleng',\n",
       " 'Pollock',\n",
       " 'Prepping Australia',\n",
       " 'Press',\n",
       " 'Primary Colours',\n",
       " 'Project Nim',\n",
       " 'Pulse',\n",
       " 'Putin: A Russian Spy Story',\n",
       " 'Q+A',\n",
       " 'Q+A Highlights',\n",
       " 'QI',\n",
       " 'Question Everything',\n",
       " 'Rain Shadow',\n",
       " 'Rake',\n",
       " 'Re-Frame 2020',\n",
       " 'Ready, Jet, Go!',\n",
       " 'Ready, Steady, Wiggle!',\n",
       " 'Recovery Reunion',\n",
       " 'Recovery: The Mayhem',\n",
       " 'Recovery: The Music',\n",
       " 'Redfern Now',\n",
       " 'Remy & Boo',\n",
       " \"RetroFocus Presents: Yesterday's News\",\n",
       " 'Retrograde',\n",
       " 'Revelation',\n",
       " 'Rewind',\n",
       " 'Rhymes And Songs',\n",
       " 'Ridley Road',\n",
       " 'Road To Now',\n",
       " \"Roald Dahl's Revolting Rhymes\",\n",
       " 'Robot Wars',\n",
       " 'Robot Wars: Battle Of The Stars Specials',\n",
       " 'Robot Wars: World Series Specials',\n",
       " 'Romeo & Juliet',\n",
       " \"Rosie Batty's One Plus One\",\n",
       " 'Roxanne',\n",
       " 'Rusty Rivets',\n",
       " 'SA Votes 2022',\n",
       " 'Sally & Possum',\n",
       " 'Same But Different',\n",
       " 'Sarah And Duck',\n",
       " 'School Of Roars',\n",
       " 'Science Max! Experiments At Large',\n",
       " 'ScienceXplosion',\n",
       " 'Scottish Vets Down Under',\n",
       " 'SeaChange',\n",
       " 'Searching For Superhuman',\n",
       " \"Secret Men's Business\",\n",
       " 'Secret State',\n",
       " 'Secrets Of Skin',\n",
       " 'Seeking Refuge',\n",
       " 'Sesame Street',\n",
       " 'Shakespeare Uncovered',\n",
       " 'Shane Warne: In Conversation with Tracey Holmes',\n",
       " 'Shaun The Sheep',\n",
       " 'Shaun The Sheep: Championsheeps',\n",
       " 'Sherpa',\n",
       " 'Shetland',\n",
       " 'Short Cuts To Glory: Matt Okine vs Food',\n",
       " 'Silent Witness',\n",
       " 'Silverpoint',\n",
       " 'Sir Mouse',\n",
       " 'Sleeping Beauty',\n",
       " 'Small Hands In A Big War',\n",
       " 'Small Potatoes!',\n",
       " 'Smart Materials',\n",
       " 'Smother',\n",
       " 'Snow Cake',\n",
       " 'So You Want To Be A Designer?',\n",
       " 'Social Media Me',\n",
       " 'Songs Of Praise: Gospel Singer Of The Year 2021 Final',\n",
       " 'Songs Of Praise: Gospel Singer Of The Year 2021 Semi-Final',\n",
       " 'Songs Of Praise: Richard III',\n",
       " 'Songs of Praise: Enduring Hymns',\n",
       " 'South Solitary',\n",
       " 'Space Nova',\n",
       " 'Spicks And Specks',\n",
       " 'Spirit Riding Free',\n",
       " 'Spirited',\n",
       " 'Splinter',\n",
       " 'Squared Zebra',\n",
       " \"St. Elmo's Fire\",\n",
       " 'Stackorama!',\n",
       " \"Stan Grant's One Plus One\",\n",
       " 'Stand By Me',\n",
       " 'Stargazing Live',\n",
       " 'Stargazing: Moon and Beyond',\n",
       " 'Starman',\n",
       " 'Starter For 10',\n",
       " 'Step Into Paradise',\n",
       " 'Stick Man',\n",
       " 'Strictly Ballroom',\n",
       " 'Strong Women',\n",
       " 'Strummer: The Future Is Unwritten',\n",
       " 'Suburban Mayhem',\n",
       " 'Superworm',\n",
       " 'Talking Heads',\n",
       " 'Tangle',\n",
       " \"Tate Britain's Great Art Walks\",\n",
       " 'Tea with the Dames',\n",
       " 'Team Rescue',\n",
       " 'Teenage Boss',\n",
       " 'Teenage Boss (Simplified Chinese Subtitles)',\n",
       " 'Teeny Tiny Stevies',\n",
       " 'Teletubbies',\n",
       " 'Tell Me A Tale',\n",
       " 'The Adventures Of Paddington',\n",
       " 'The Anxiety Project',\n",
       " 'The Art Of Australia',\n",
       " 'The Art of Remembrance',\n",
       " 'The Beanies: Music Clips',\n",
       " 'The Beautiful Bush',\n",
       " 'The Beautiful Lie',\n",
       " 'The Big Heat',\n",
       " 'The Black Balloon',\n",
       " 'The Boys Are Back',\n",
       " 'The Brief',\n",
       " 'The Bright Side',\n",
       " 'The Broken Shore',\n",
       " 'The Brokenwood Mysteries',\n",
       " \"The Brothers' Book Club\",\n",
       " 'The Business',\n",
       " 'The Butterfly Tree',\n",
       " 'The Chemical World',\n",
       " 'The China Century',\n",
       " 'The Crown and Us: The Story of The Royals in Australia',\n",
       " 'The Cry',\n",
       " 'The Crystal Maze',\n",
       " 'The Death And Life Of Otto Bloom',\n",
       " 'The Demon Headmaster',\n",
       " 'The Dengineers',\n",
       " 'The Dinner',\n",
       " 'The Drum',\n",
       " 'The End Of The Affair',\n",
       " 'The Epic Adventures of Morph',\n",
       " 'The Five',\n",
       " 'The Florida Project',\n",
       " 'The Gods Of Wheat Street',\n",
       " 'The Great Acceleration',\n",
       " 'The Great Australian Bee Challenge',\n",
       " 'The Greek Islands With Julia Bradbury',\n",
       " 'The Gruffalo',\n",
       " \"The Gruffalo's Child\",\n",
       " 'The Heights',\n",
       " 'The Heights (Simplified Chinese Subtitles)',\n",
       " 'The Highway Rat',\n",
       " 'The Hollow Crown',\n",
       " 'The House In Session',\n",
       " 'The House With Annabel Crabb',\n",
       " 'The Inbestigators',\n",
       " 'The Justine Clarke Show!: Songs',\n",
       " 'The Kids Are All Right',\n",
       " 'The Larkins',\n",
       " 'The Last Panthers',\n",
       " \"The Last Picture Show (Director's Cut)\",\n",
       " 'The Last Station',\n",
       " 'The Little Death',\n",
       " 'The Lost Aviator',\n",
       " 'The Lost Bladesman',\n",
       " \"The Making Of David Attenborough's Galapagos\",\n",
       " 'The Making Of Flying Monsters With David Attenborough',\n",
       " 'The Making Of The Penguin King With David Attenborough',\n",
       " \"The Making of David Attenborough's Great Barrier Reef\",\n",
       " 'The Mindfulness Tool Kit',\n",
       " 'The Mule',\n",
       " 'The Nannas And The Poppas',\n",
       " 'The Nannas And The Poppas (Hindi)',\n",
       " 'The Newsreader',\n",
       " 'The Next Step',\n",
       " 'The Night We Called It A Day',\n",
       " \"The PM's Daughter\",\n",
       " 'The Parker Andersons',\n",
       " 'The Penguin King With David Attenborough',\n",
       " 'The Penguins Of Madagascar',\n",
       " 'The Planets',\n",
       " 'The Poles Revealed',\n",
       " 'The Pool',\n",
       " 'The Princes And The Press',\n",
       " \"The Queen's Green Planet\",\n",
       " 'The Record',\n",
       " 'The Road',\n",
       " 'The School That Tried To End Racism',\n",
       " 'The Secret River',\n",
       " 'The Set',\n",
       " 'The Silence (UK)',\n",
       " 'The Snail And The Whale',\n",
       " 'The Sorcerer and the White Snake',\n",
       " 'The Sound',\n",
       " 'The Stickie Gang',\n",
       " 'The Story of Film: An Odyssey',\n",
       " 'The Storybuilding Tool Kit',\n",
       " 'The Straits',\n",
       " 'The Strange Calls',\n",
       " 'The Teacher',\n",
       " 'The Tender Hook',\n",
       " 'The Ticket',\n",
       " 'The Time Of Our Lives',\n",
       " 'The Trial Of Christine Keeler',\n",
       " 'The Trials Of Jimmy Rose',\n",
       " 'The Twist',\n",
       " 'The Virus',\n",
       " 'The Wacky Word Show',\n",
       " 'The Walker',\n",
       " 'The War Of The Worlds',\n",
       " 'The Warriors',\n",
       " 'The Way We Were',\n",
       " 'The Well',\n",
       " 'The Wiggles World',\n",
       " 'The Wiggles, Nursery Rhymes',\n",
       " 'The Wild One',\n",
       " 'The Wimbledon Kidnapping',\n",
       " 'The Wonder Gang',\n",
       " 'The Wonder Of Marsupials',\n",
       " 'The World',\n",
       " 'The World This Week',\n",
       " 'The Zoo',\n",
       " 'This Is Scarlett And Isaiah',\n",
       " 'This Place: Artist Series',\n",
       " 'Thomas And Friends',\n",
       " 'Thomas and Friends: All Engines Go!',\n",
       " 'Thr3e',\n",
       " 'Three Kingdoms',\n",
       " 'Thunderbirds Are Go',\n",
       " 'Thunderstruck',\n",
       " 'Tick F***ing Tock',\n",
       " 'Tickled',\n",
       " 'Tik Tak',\n",
       " 'Tish Tash',\n",
       " 'Titch And Ted Do Maths',\n",
       " 'To Sir, With Love',\n",
       " 'Tommy',\n",
       " 'Tomorrow Tonight',\n",
       " 'Tomorrow When The War Began',\n",
       " 'Top Jobs For Dogs',\n",
       " 'Top Of The Lake',\n",
       " 'Total Control',\n",
       " 'Total Control (Simplified Chinese Subtitles)',\n",
       " 'Traces',\n",
       " 'Train To Busan',\n",
       " 'Triangle',\n",
       " 'Troppo',\n",
       " 'Trumbo',\n",
       " 'Trust The Man',\n",
       " 'Underscore',\n",
       " 'Unforgotten',\n",
       " 'Universe With Brian Cox',\n",
       " 'Unsung Secrets',\n",
       " 'Van der Valk',\n",
       " 'Veneno',\n",
       " 'Vera',\n",
       " 'Wacky Number Songs',\n",
       " 'Wacky Word Songs',\n",
       " 'Waffle The Wonder Dog',\n",
       " 'Wakefield',\n",
       " 'Wallykazam!',\n",
       " 'Waltzing The Dragon With Benjamin Law',\n",
       " 'War On Waste',\n",
       " 'War On Waste (Simplified Chinese Subtitles)',\n",
       " 'War Stories',\n",
       " 'Water Safety with Kangaroo Beach',\n",
       " 'Water Wisdom',\n",
       " 'Way Out Ag',\n",
       " \"We Don't Live Here Anymore\",\n",
       " 'We Hunt Together',\n",
       " 'Weather On The Go',\n",
       " 'Weirdy Rhymes',\n",
       " 'What Is Music?',\n",
       " \"What It's Like\",\n",
       " 'What Makes Me Me?',\n",
       " \"What's For Dinner?\",\n",
       " \"What's For Dinner? Lunar New Year\",\n",
       " \"What's For Dinner? Lunar New Year (Simplified Chinese Subtitles)\",\n",
       " 'When War Came To Australia',\n",
       " 'Where in the World?',\n",
       " 'Whiteley',\n",
       " 'Who Killed Belinda Peisley? Uncovered',\n",
       " 'Whovians',\n",
       " 'Wide Open Spaces',\n",
       " 'Wiggly Fruit Salad',\n",
       " 'Wild Rides',\n",
       " 'Wild Target',\n",
       " 'Win The Week',\n",
       " 'Would I Lie To You?',\n",
       " \"Wow That's Amazing\",\n",
       " 'Year Of The Rabbit',\n",
       " \"You Can't Ask That\",\n",
       " \"You Can't Ask That (Simplified Chinese Subtitles)\",\n",
       " \"You Can't Ask That In The Classroom\",\n",
       " \"You Can't Ask That: Invictus Games\",\n",
       " \"You're Next\",\n",
       " 'Your Paintings',\n",
       " 'Yves Saint Laurent',\n",
       " 'Zog',\n",
       " 'Zog And The Flying Doctors',\n",
       " 'dirtgirlworld',\n",
       " 'dirtgirlworld: Songs',\n",
       " 'hoopla doopla!',\n",
       " 'hoopla doopla! (Mandarin)',\n",
       " 'storyTree',\n",
       " 'triple j Like A Version',\n",
       " \"triple j's One Night Stand, Lucindale\"}"
      ]
     },
     "execution_count": 282,
     "metadata": {},
     "output_type": "execute_result"
    }
   ],
   "source": [
    "# Finding TV shows\n",
    "\n",
    "def unique_titles(title_list):\n",
    "    not_unique = []\n",
    "    s = set()\n",
    "    for x in title_list:\n",
    "        if x in s: not_unique.append(x)\n",
    "        s.add(x)\n",
    "    return set(not_unique)\n",
    "\n",
    "unique_titles(list(clean['title']))"
   ]
  },
  {
   "cell_type": "code",
   "execution_count": 285,
   "metadata": {},
   "outputs": [
    {
     "data": {
      "text/html": [
       "<div>\n",
       "<style scoped>\n",
       "    .dataframe tbody tr th:only-of-type {\n",
       "        vertical-align: middle;\n",
       "    }\n",
       "\n",
       "    .dataframe tbody tr th {\n",
       "        vertical-align: top;\n",
       "    }\n",
       "\n",
       "    .dataframe thead th {\n",
       "        text-align: right;\n",
       "    }\n",
       "</style>\n",
       "<table border=\"1\" class=\"dataframe\">\n",
       "  <thead>\n",
       "    <tr style=\"text-align: right;\">\n",
       "      <th></th>\n",
       "      <th>category</th>\n",
       "      <th>title</th>\n",
       "      <th>series</th>\n",
       "      <th>episode_name</th>\n",
       "      <th>description</th>\n",
       "      <th>description2</th>\n",
       "      <th>tags</th>\n",
       "      <th>image</th>\n",
       "      <th>directors_actors</th>\n",
       "      <th>tags2</th>\n",
       "      <th>publication_date</th>\n",
       "      <th>rating</th>\n",
       "      <th>duration_sec</th>\n",
       "      <th>season</th>\n",
       "      <th>episode</th>\n",
       "      <th>episode_description</th>\n",
       "    </tr>\n",
       "  </thead>\n",
       "  <tbody>\n",
       "    <tr>\n",
       "      <th>0</th>\n",
       "      <td>Arts</td>\n",
       "      <td>Bangarra's World</td>\n",
       "      <td>Bangarra's World</td>\n",
       "      <td>Return to Country (Yirrkala)</td>\n",
       "      <td>Join the dancers and creatives during Bangarra...</td>\n",
       "      <td>In Yirrkala, Northeast Arnhem Land, Bangarra s...</td>\n",
       "      <td>[ABC TV, ABC TV Plus, INDIGENOUS, ARTS &amp; CULTU...</td>\n",
       "      <td>https://cdn.iview.abc.net.au/thumbs/i/ar/AR194...</td>\n",
       "      <td>Director Nel Minchin, Wayne Blair</td>\n",
       "      <td>[abc1, abc2, indigenous, abcarts, arts, docs, ...</td>\n",
       "      <td>2021-07-07 22:00:00</td>\n",
       "      <td>G</td>\n",
       "      <td>626.0</td>\n",
       "      <td></td>\n",
       "      <td></td>\n",
       "      <td></td>\n",
       "    </tr>\n",
       "    <tr>\n",
       "      <th>331</th>\n",
       "      <td>Arts</td>\n",
       "      <td>Bangarra's World</td>\n",
       "      <td>Bangarra's World</td>\n",
       "      <td>Taking on Stamping Ground</td>\n",
       "      <td>Join the dancers and creatives during Bangarra...</td>\n",
       "      <td>For the first time ever, Bangarra performs a w...</td>\n",
       "      <td>[ABC TV, ABC TV Plus, INDIGENOUS, ARTS &amp; CULTU...</td>\n",
       "      <td>https://cdn.iview.abc.net.au/thumbs/i/ar/AR194...</td>\n",
       "      <td>Director Nel Minchin, Wayne Blair</td>\n",
       "      <td>[abc1, abc2, indigenous, abcarts, arts, docs, ...</td>\n",
       "      <td>2021-07-07 22:00:00</td>\n",
       "      <td>PG</td>\n",
       "      <td>611.0</td>\n",
       "      <td></td>\n",
       "      <td></td>\n",
       "      <td></td>\n",
       "    </tr>\n",
       "    <tr>\n",
       "      <th>372</th>\n",
       "      <td>Arts</td>\n",
       "      <td>Bangarra's World</td>\n",
       "      <td>Bangarra's World</td>\n",
       "      <td>Being Bennelong</td>\n",
       "      <td>Join the dancers and creatives during Bangarra...</td>\n",
       "      <td>Meet Beau Dean Riley Smith, the Wiradjuri man ...</td>\n",
       "      <td>[ABC TV, ABC TV Plus, INDIGENOUS, ARTS &amp; CULTU...</td>\n",
       "      <td>https://cdn.iview.abc.net.au/thumbs/i/ar/AR194...</td>\n",
       "      <td>Director Nel Minchin, Wayne Blair</td>\n",
       "      <td>[abc1, abc2, indigenous, abcarts, arts, docs, ...</td>\n",
       "      <td>2021-07-07 22:00:00</td>\n",
       "      <td>PG</td>\n",
       "      <td>549.0</td>\n",
       "      <td></td>\n",
       "      <td></td>\n",
       "      <td></td>\n",
       "    </tr>\n",
       "    <tr>\n",
       "      <th>584</th>\n",
       "      <td>Arts</td>\n",
       "      <td>Bangarra's World</td>\n",
       "      <td>Bangarra's World</td>\n",
       "      <td>Touring Canada</td>\n",
       "      <td>Join the dancers and creatives during Bangarra...</td>\n",
       "      <td>Bangarra tour Canada, a country with a colonia...</td>\n",
       "      <td>[ABC TV, ABC TV Plus, INDIGENOUS, ARTS &amp; CULTU...</td>\n",
       "      <td>https://cdn.iview.abc.net.au/thumbs/i/ar/AR194...</td>\n",
       "      <td>Director Nel Minchin, Wayne Blair</td>\n",
       "      <td>[abc1, abc2, indigenous, abcarts, arts, docs, ...</td>\n",
       "      <td>2021-07-07 22:00:00</td>\n",
       "      <td>G</td>\n",
       "      <td>501.0</td>\n",
       "      <td></td>\n",
       "      <td></td>\n",
       "      <td></td>\n",
       "    </tr>\n",
       "    <tr>\n",
       "      <th>735</th>\n",
       "      <td>Arts</td>\n",
       "      <td>Bangarra's World</td>\n",
       "      <td>Bangarra's World</td>\n",
       "      <td>Unaipon</td>\n",
       "      <td>Join the dancers and creatives during Bangarra...</td>\n",
       "      <td>One of three works performed for Bangarra's 30...</td>\n",
       "      <td>[ABC TV, ABC TV Plus, INDIGENOUS, ARTS &amp; CULTU...</td>\n",
       "      <td>https://cdn.iview.abc.net.au/thumbs/i/ar/AR194...</td>\n",
       "      <td>Director Nel Minchin, Wayne Blair</td>\n",
       "      <td>[abc1, abc2, indigenous, abcarts, arts, docs, ...</td>\n",
       "      <td>2021-07-07 22:00:00</td>\n",
       "      <td>PG</td>\n",
       "      <td>577.0</td>\n",
       "      <td></td>\n",
       "      <td></td>\n",
       "      <td></td>\n",
       "    </tr>\n",
       "    <tr>\n",
       "      <th>841</th>\n",
       "      <td>Arts</td>\n",
       "      <td>Bangarra's World</td>\n",
       "      <td>Bangarra's World</td>\n",
       "      <td>Return to Country (Yirrkala)</td>\n",
       "      <td>Join the dancers and creatives during Bangarra...</td>\n",
       "      <td>In Yirrkala, Northeast Arnhem Land, Bangarra s...</td>\n",
       "      <td>[ABC TV, ABC TV Plus, INDIGENOUS, ARTS &amp; CULTU...</td>\n",
       "      <td>https://cdn.iview.abc.net.au/thumbs/i/ar/AR194...</td>\n",
       "      <td>Director Nel Minchin, Wayne Blair</td>\n",
       "      <td>[abc1, abc2, indigenous, abcarts, arts, docs, ...</td>\n",
       "      <td>2021-07-07 22:00:00</td>\n",
       "      <td>G</td>\n",
       "      <td>626.0</td>\n",
       "      <td></td>\n",
       "      <td></td>\n",
       "      <td></td>\n",
       "    </tr>\n",
       "    <tr>\n",
       "      <th>868</th>\n",
       "      <td>Arts</td>\n",
       "      <td>Bangarra's World</td>\n",
       "      <td>Bangarra's World</td>\n",
       "      <td>Art of Bangarra</td>\n",
       "      <td>Join the dancers and creatives during Bangarra...</td>\n",
       "      <td>Bangarra's works are renowned for their theatr...</td>\n",
       "      <td>[ABC TV, ABC TV Plus, INDIGENOUS, ARTS &amp; CULTU...</td>\n",
       "      <td>https://cdn.iview.abc.net.au/thumbs/i/ar/AR194...</td>\n",
       "      <td>Director Nel Minchin, Wayne Blair</td>\n",
       "      <td>[abc1, abc2, indigenous, abcarts, arts, docs, ...</td>\n",
       "      <td>2021-07-07 22:00:00</td>\n",
       "      <td>G</td>\n",
       "      <td>517.0</td>\n",
       "      <td></td>\n",
       "      <td></td>\n",
       "      <td></td>\n",
       "    </tr>\n",
       "    <tr>\n",
       "      <th>913</th>\n",
       "      <td>Documentary</td>\n",
       "      <td>Bangarra's World</td>\n",
       "      <td>Bangarra's World</td>\n",
       "      <td>Return to Country (Yirrkala)</td>\n",
       "      <td>Join the dancers and creatives during Bangarra...</td>\n",
       "      <td>In Yirrkala, Northeast Arnhem Land, Bangarra s...</td>\n",
       "      <td>[ABC TV, ABC TV Plus, INDIGENOUS, ARTS &amp; CULTU...</td>\n",
       "      <td>https://cdn.iview.abc.net.au/thumbs/i/ar/AR194...</td>\n",
       "      <td>Director Nel Minchin, Wayne Blair</td>\n",
       "      <td>[abc1, abc2, indigenous, abcarts, arts, docs, ...</td>\n",
       "      <td>2021-07-07 22:00:00</td>\n",
       "      <td>G</td>\n",
       "      <td>626.0</td>\n",
       "      <td></td>\n",
       "      <td></td>\n",
       "      <td></td>\n",
       "    </tr>\n",
       "    <tr>\n",
       "      <th>1322</th>\n",
       "      <td>Documentary</td>\n",
       "      <td>Bangarra's World</td>\n",
       "      <td>Bangarra's World</td>\n",
       "      <td>Taking on Stamping Ground</td>\n",
       "      <td>Join the dancers and creatives during Bangarra...</td>\n",
       "      <td>For the first time ever, Bangarra performs a w...</td>\n",
       "      <td>[ABC TV, ABC TV Plus, INDIGENOUS, ARTS &amp; CULTU...</td>\n",
       "      <td>https://cdn.iview.abc.net.au/thumbs/i/ar/AR194...</td>\n",
       "      <td>Director Nel Minchin, Wayne Blair</td>\n",
       "      <td>[abc1, abc2, indigenous, abcarts, arts, docs, ...</td>\n",
       "      <td>2021-07-07 22:00:00</td>\n",
       "      <td>PG</td>\n",
       "      <td>611.0</td>\n",
       "      <td></td>\n",
       "      <td></td>\n",
       "      <td></td>\n",
       "    </tr>\n",
       "    <tr>\n",
       "      <th>1397</th>\n",
       "      <td>Documentary</td>\n",
       "      <td>Bangarra's World</td>\n",
       "      <td>Bangarra's World</td>\n",
       "      <td>Being Bennelong</td>\n",
       "      <td>Join the dancers and creatives during Bangarra...</td>\n",
       "      <td>Meet Beau Dean Riley Smith, the Wiradjuri man ...</td>\n",
       "      <td>[ABC TV, ABC TV Plus, INDIGENOUS, ARTS &amp; CULTU...</td>\n",
       "      <td>https://cdn.iview.abc.net.au/thumbs/i/ar/AR194...</td>\n",
       "      <td>Director Nel Minchin, Wayne Blair</td>\n",
       "      <td>[abc1, abc2, indigenous, abcarts, arts, docs, ...</td>\n",
       "      <td>2021-07-07 22:00:00</td>\n",
       "      <td>PG</td>\n",
       "      <td>549.0</td>\n",
       "      <td></td>\n",
       "      <td></td>\n",
       "      <td></td>\n",
       "    </tr>\n",
       "    <tr>\n",
       "      <th>1627</th>\n",
       "      <td>Documentary</td>\n",
       "      <td>Bangarra's World</td>\n",
       "      <td>Bangarra's World</td>\n",
       "      <td>Touring Canada</td>\n",
       "      <td>Join the dancers and creatives during Bangarra...</td>\n",
       "      <td>Bangarra tour Canada, a country with a colonia...</td>\n",
       "      <td>[ABC TV, ABC TV Plus, INDIGENOUS, ARTS &amp; CULTU...</td>\n",
       "      <td>https://cdn.iview.abc.net.au/thumbs/i/ar/AR194...</td>\n",
       "      <td>Director Nel Minchin, Wayne Blair</td>\n",
       "      <td>[abc1, abc2, indigenous, abcarts, arts, docs, ...</td>\n",
       "      <td>2021-07-07 22:00:00</td>\n",
       "      <td>G</td>\n",
       "      <td>501.0</td>\n",
       "      <td></td>\n",
       "      <td></td>\n",
       "      <td></td>\n",
       "    </tr>\n",
       "    <tr>\n",
       "      <th>1824</th>\n",
       "      <td>Documentary</td>\n",
       "      <td>Bangarra's World</td>\n",
       "      <td>Bangarra's World</td>\n",
       "      <td>Unaipon</td>\n",
       "      <td>Join the dancers and creatives during Bangarra...</td>\n",
       "      <td>One of three works performed for Bangarra's 30...</td>\n",
       "      <td>[ABC TV, ABC TV Plus, INDIGENOUS, ARTS &amp; CULTU...</td>\n",
       "      <td>https://cdn.iview.abc.net.au/thumbs/i/ar/AR194...</td>\n",
       "      <td>Director Nel Minchin, Wayne Blair</td>\n",
       "      <td>[abc1, abc2, indigenous, abcarts, arts, docs, ...</td>\n",
       "      <td>2021-07-07 22:00:00</td>\n",
       "      <td>PG</td>\n",
       "      <td>577.0</td>\n",
       "      <td></td>\n",
       "      <td></td>\n",
       "      <td></td>\n",
       "    </tr>\n",
       "    <tr>\n",
       "      <th>1950</th>\n",
       "      <td>Documentary</td>\n",
       "      <td>Bangarra's World</td>\n",
       "      <td>Bangarra's World</td>\n",
       "      <td>Return to Country (Yirrkala)</td>\n",
       "      <td>Join the dancers and creatives during Bangarra...</td>\n",
       "      <td>In Yirrkala, Northeast Arnhem Land, Bangarra s...</td>\n",
       "      <td>[ABC TV, ABC TV Plus, INDIGENOUS, ARTS &amp; CULTU...</td>\n",
       "      <td>https://cdn.iview.abc.net.au/thumbs/i/ar/AR194...</td>\n",
       "      <td>Director Nel Minchin, Wayne Blair</td>\n",
       "      <td>[abc1, abc2, indigenous, abcarts, arts, docs, ...</td>\n",
       "      <td>2021-07-07 22:00:00</td>\n",
       "      <td>G</td>\n",
       "      <td>626.0</td>\n",
       "      <td></td>\n",
       "      <td></td>\n",
       "      <td></td>\n",
       "    </tr>\n",
       "    <tr>\n",
       "      <th>2004</th>\n",
       "      <td>Documentary</td>\n",
       "      <td>Bangarra's World</td>\n",
       "      <td>Bangarra's World</td>\n",
       "      <td>Art of Bangarra</td>\n",
       "      <td>Join the dancers and creatives during Bangarra...</td>\n",
       "      <td>Bangarra's works are renowned for their theatr...</td>\n",
       "      <td>[ABC TV, ABC TV Plus, INDIGENOUS, ARTS &amp; CULTU...</td>\n",
       "      <td>https://cdn.iview.abc.net.au/thumbs/i/ar/AR194...</td>\n",
       "      <td>Director Nel Minchin, Wayne Blair</td>\n",
       "      <td>[abc1, abc2, indigenous, abcarts, arts, docs, ...</td>\n",
       "      <td>2021-07-07 22:00:00</td>\n",
       "      <td>G</td>\n",
       "      <td>517.0</td>\n",
       "      <td></td>\n",
       "      <td></td>\n",
       "      <td></td>\n",
       "    </tr>\n",
       "  </tbody>\n",
       "</table>\n",
       "</div>"
      ],
      "text/plain": [
       "         category             title            series  \\\n",
       "0            Arts  Bangarra's World  Bangarra's World   \n",
       "331          Arts  Bangarra's World  Bangarra's World   \n",
       "372          Arts  Bangarra's World  Bangarra's World   \n",
       "584          Arts  Bangarra's World  Bangarra's World   \n",
       "735          Arts  Bangarra's World  Bangarra's World   \n",
       "841          Arts  Bangarra's World  Bangarra's World   \n",
       "868          Arts  Bangarra's World  Bangarra's World   \n",
       "913   Documentary  Bangarra's World  Bangarra's World   \n",
       "1322  Documentary  Bangarra's World  Bangarra's World   \n",
       "1397  Documentary  Bangarra's World  Bangarra's World   \n",
       "1627  Documentary  Bangarra's World  Bangarra's World   \n",
       "1824  Documentary  Bangarra's World  Bangarra's World   \n",
       "1950  Documentary  Bangarra's World  Bangarra's World   \n",
       "2004  Documentary  Bangarra's World  Bangarra's World   \n",
       "\n",
       "                      episode_name  \\\n",
       "0     Return to Country (Yirrkala)   \n",
       "331      Taking on Stamping Ground   \n",
       "372                Being Bennelong   \n",
       "584                 Touring Canada   \n",
       "735                        Unaipon   \n",
       "841   Return to Country (Yirrkala)   \n",
       "868                Art of Bangarra   \n",
       "913   Return to Country (Yirrkala)   \n",
       "1322     Taking on Stamping Ground   \n",
       "1397               Being Bennelong   \n",
       "1627                Touring Canada   \n",
       "1824                       Unaipon   \n",
       "1950  Return to Country (Yirrkala)   \n",
       "2004               Art of Bangarra   \n",
       "\n",
       "                                            description  \\\n",
       "0     Join the dancers and creatives during Bangarra...   \n",
       "331   Join the dancers and creatives during Bangarra...   \n",
       "372   Join the dancers and creatives during Bangarra...   \n",
       "584   Join the dancers and creatives during Bangarra...   \n",
       "735   Join the dancers and creatives during Bangarra...   \n",
       "841   Join the dancers and creatives during Bangarra...   \n",
       "868   Join the dancers and creatives during Bangarra...   \n",
       "913   Join the dancers and creatives during Bangarra...   \n",
       "1322  Join the dancers and creatives during Bangarra...   \n",
       "1397  Join the dancers and creatives during Bangarra...   \n",
       "1627  Join the dancers and creatives during Bangarra...   \n",
       "1824  Join the dancers and creatives during Bangarra...   \n",
       "1950  Join the dancers and creatives during Bangarra...   \n",
       "2004  Join the dancers and creatives during Bangarra...   \n",
       "\n",
       "                                           description2  \\\n",
       "0     In Yirrkala, Northeast Arnhem Land, Bangarra s...   \n",
       "331   For the first time ever, Bangarra performs a w...   \n",
       "372   Meet Beau Dean Riley Smith, the Wiradjuri man ...   \n",
       "584   Bangarra tour Canada, a country with a colonia...   \n",
       "735   One of three works performed for Bangarra's 30...   \n",
       "841   In Yirrkala, Northeast Arnhem Land, Bangarra s...   \n",
       "868   Bangarra's works are renowned for their theatr...   \n",
       "913   In Yirrkala, Northeast Arnhem Land, Bangarra s...   \n",
       "1322  For the first time ever, Bangarra performs a w...   \n",
       "1397  Meet Beau Dean Riley Smith, the Wiradjuri man ...   \n",
       "1627  Bangarra tour Canada, a country with a colonia...   \n",
       "1824  One of three works performed for Bangarra's 30...   \n",
       "1950  In Yirrkala, Northeast Arnhem Land, Bangarra s...   \n",
       "2004  Bangarra's works are renowned for their theatr...   \n",
       "\n",
       "                                                   tags  \\\n",
       "0     [ABC TV, ABC TV Plus, INDIGENOUS, ARTS & CULTU...   \n",
       "331   [ABC TV, ABC TV Plus, INDIGENOUS, ARTS & CULTU...   \n",
       "372   [ABC TV, ABC TV Plus, INDIGENOUS, ARTS & CULTU...   \n",
       "584   [ABC TV, ABC TV Plus, INDIGENOUS, ARTS & CULTU...   \n",
       "735   [ABC TV, ABC TV Plus, INDIGENOUS, ARTS & CULTU...   \n",
       "841   [ABC TV, ABC TV Plus, INDIGENOUS, ARTS & CULTU...   \n",
       "868   [ABC TV, ABC TV Plus, INDIGENOUS, ARTS & CULTU...   \n",
       "913   [ABC TV, ABC TV Plus, INDIGENOUS, ARTS & CULTU...   \n",
       "1322  [ABC TV, ABC TV Plus, INDIGENOUS, ARTS & CULTU...   \n",
       "1397  [ABC TV, ABC TV Plus, INDIGENOUS, ARTS & CULTU...   \n",
       "1627  [ABC TV, ABC TV Plus, INDIGENOUS, ARTS & CULTU...   \n",
       "1824  [ABC TV, ABC TV Plus, INDIGENOUS, ARTS & CULTU...   \n",
       "1950  [ABC TV, ABC TV Plus, INDIGENOUS, ARTS & CULTU...   \n",
       "2004  [ABC TV, ABC TV Plus, INDIGENOUS, ARTS & CULTU...   \n",
       "\n",
       "                                                  image  \\\n",
       "0     https://cdn.iview.abc.net.au/thumbs/i/ar/AR194...   \n",
       "331   https://cdn.iview.abc.net.au/thumbs/i/ar/AR194...   \n",
       "372   https://cdn.iview.abc.net.au/thumbs/i/ar/AR194...   \n",
       "584   https://cdn.iview.abc.net.au/thumbs/i/ar/AR194...   \n",
       "735   https://cdn.iview.abc.net.au/thumbs/i/ar/AR194...   \n",
       "841   https://cdn.iview.abc.net.au/thumbs/i/ar/AR194...   \n",
       "868   https://cdn.iview.abc.net.au/thumbs/i/ar/AR194...   \n",
       "913   https://cdn.iview.abc.net.au/thumbs/i/ar/AR194...   \n",
       "1322  https://cdn.iview.abc.net.au/thumbs/i/ar/AR194...   \n",
       "1397  https://cdn.iview.abc.net.au/thumbs/i/ar/AR194...   \n",
       "1627  https://cdn.iview.abc.net.au/thumbs/i/ar/AR194...   \n",
       "1824  https://cdn.iview.abc.net.au/thumbs/i/ar/AR194...   \n",
       "1950  https://cdn.iview.abc.net.au/thumbs/i/ar/AR194...   \n",
       "2004  https://cdn.iview.abc.net.au/thumbs/i/ar/AR194...   \n",
       "\n",
       "                       directors_actors  \\\n",
       "0     Director Nel Minchin, Wayne Blair   \n",
       "331   Director Nel Minchin, Wayne Blair   \n",
       "372   Director Nel Minchin, Wayne Blair   \n",
       "584   Director Nel Minchin, Wayne Blair   \n",
       "735   Director Nel Minchin, Wayne Blair   \n",
       "841   Director Nel Minchin, Wayne Blair   \n",
       "868   Director Nel Minchin, Wayne Blair   \n",
       "913   Director Nel Minchin, Wayne Blair   \n",
       "1322  Director Nel Minchin, Wayne Blair   \n",
       "1397  Director Nel Minchin, Wayne Blair   \n",
       "1627  Director Nel Minchin, Wayne Blair   \n",
       "1824  Director Nel Minchin, Wayne Blair   \n",
       "1950  Director Nel Minchin, Wayne Blair   \n",
       "2004  Director Nel Minchin, Wayne Blair   \n",
       "\n",
       "                                                  tags2     publication_date  \\\n",
       "0     [abc1, abc2, indigenous, abcarts, arts, docs, ...  2021-07-07 22:00:00   \n",
       "331   [abc1, abc2, indigenous, abcarts, arts, docs, ...  2021-07-07 22:00:00   \n",
       "372   [abc1, abc2, indigenous, abcarts, arts, docs, ...  2021-07-07 22:00:00   \n",
       "584   [abc1, abc2, indigenous, abcarts, arts, docs, ...  2021-07-07 22:00:00   \n",
       "735   [abc1, abc2, indigenous, abcarts, arts, docs, ...  2021-07-07 22:00:00   \n",
       "841   [abc1, abc2, indigenous, abcarts, arts, docs, ...  2021-07-07 22:00:00   \n",
       "868   [abc1, abc2, indigenous, abcarts, arts, docs, ...  2021-07-07 22:00:00   \n",
       "913   [abc1, abc2, indigenous, abcarts, arts, docs, ...  2021-07-07 22:00:00   \n",
       "1322  [abc1, abc2, indigenous, abcarts, arts, docs, ...  2021-07-07 22:00:00   \n",
       "1397  [abc1, abc2, indigenous, abcarts, arts, docs, ...  2021-07-07 22:00:00   \n",
       "1627  [abc1, abc2, indigenous, abcarts, arts, docs, ...  2021-07-07 22:00:00   \n",
       "1824  [abc1, abc2, indigenous, abcarts, arts, docs, ...  2021-07-07 22:00:00   \n",
       "1950  [abc1, abc2, indigenous, abcarts, arts, docs, ...  2021-07-07 22:00:00   \n",
       "2004  [abc1, abc2, indigenous, abcarts, arts, docs, ...  2021-07-07 22:00:00   \n",
       "\n",
       "     rating  duration_sec season episode episode_description  \n",
       "0         G         626.0                                     \n",
       "331      PG         611.0                                     \n",
       "372      PG         549.0                                     \n",
       "584       G         501.0                                     \n",
       "735      PG         577.0                                     \n",
       "841       G         626.0                                     \n",
       "868       G         517.0                                     \n",
       "913       G         626.0                                     \n",
       "1322     PG         611.0                                     \n",
       "1397     PG         549.0                                     \n",
       "1627      G         501.0                                     \n",
       "1824     PG         577.0                                     \n",
       "1950      G         626.0                                     \n",
       "2004      G         517.0                                     "
      ]
     },
     "execution_count": 285,
     "metadata": {},
     "output_type": "execute_result"
    }
   ],
   "source": [
    "frame[frame['title'] == \"Bangarra's World\"]"
   ]
  }
 ],
 "metadata": {
  "kernelspec": {
   "display_name": "Python 3",
   "language": "python",
   "name": "python3"
  },
  "language_info": {
   "codemirror_mode": {
    "name": "ipython",
    "version": 3
   },
   "file_extension": ".py",
   "mimetype": "text/x-python",
   "name": "python",
   "nbconvert_exporter": "python",
   "pygments_lexer": "ipython3",
   "version": "3.10.8"
  }
 },
 "nbformat": 4,
 "nbformat_minor": 4
}
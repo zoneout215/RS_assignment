{
 "cells": [
  {
   "cell_type": "code",
   "execution_count": 1,
   "outputs": [
    {
     "data": {
      "text/plain": "        id                                  title   category  \\\n672  10672                         hoopla doopla!       Kids   \n673  10673              hoopla doopla! (Mandarin)  Education   \n674  10674                              storyTree  Education   \n675  10675                triple j Like A Version       Arts   \n676  10676  triple j's One Night Stand, Lucindale       Arts   \n\n                                           description  \\\n672  hoopla doopla! is a live action preschool show...   \n673  hoopla doopla! is a live action preschool show...   \n674  Join storyteller, Miss Treeleaf, in an imagina...   \n675  A popular segment recorded at triple j studios...   \n676  triple j takes the live music experience to a ...   \n\n                                          description2 directors_actors  \\\n672  [Jango dresses up as a king and his friends mi...             [[]]   \n673  [Jango is determined to be picked to be in the...             [[]]   \n674  [When little red hen bakes a cake, her lazy fr...             [[]]   \n675  [1300 cover Psy for Like A Version., A.GIRL co...             [[]]   \n676  [Hilltop Hoods live on stage with special gues...             [[]]   \n\n        publication_date rating  \\\n672  2022-01-28 06:15:10      G   \n673  2022-01-28 06:35:20      G   \n674  2020-03-20 14:11:00      G   \n675  2022-03-18 18:00:00      M   \n676  2019-09-16 17:00:00      M   \n\n                                          duration_sec  \\\n672  [720.0, 720.0, 720.0, 720.0, 720.0, 720.0, 720...   \n673  [720.0, 720.0, 720.0, 720.0, 720.0, 720.0, 720...   \n674  [210.0, 210.0, 210.0, 210.0, 210.0, 210.0, 210...   \n675                [395.0, 407.0, 470.0, 238.0, 467.0]   \n676            [3873.0, 507.0, 2208.0, 2372.0, 2665.0]   \n\n                                        tags  \\\n672                               [ABC Kids]   \n673                               [ABC Kids]   \n674                    [ABC Kids, EDUCATION]   \n675                 [ABC TV, ARTS & CULTURE]   \n676  [ABC ARTS, ABC TV Plus, ARTS & CULTURE]   \n\n                                                 tags2  \\\n672  [abc4kids, 4movers, 4imagine, 4best, ps-birthd...   \n673        [4liveaction, abc4kids, forever, education]   \n674  [primary-english, abc4kids, education, 4story,...   \n675  [aussie, live-music, iview, ausmusic, rock-n-r...   \n676  [triplej, abcarts, latest, performance, music,...   \n\n                                                 image  \n672  https://cdn.iview.abc.net.au/thumbs/i/ch/CH121...  \n673  https://cdn.iview.abc.net.au/thumbs/i/zw/ZW103...  \n674  https://cdn.iview.abc.net.au/thumbs/i/zx/ZX941...  \n675  https://cdn.iview.abc.net.au/thumbs/i/iv/IV220...  \n676  https://cdn.iview.abc.net.au/thumbs/i/rk/RK190...  ",
      "text/html": "<div>\n<style scoped>\n    .dataframe tbody tr th:only-of-type {\n        vertical-align: middle;\n    }\n\n    .dataframe tbody tr th {\n        vertical-align: top;\n    }\n\n    .dataframe thead th {\n        text-align: right;\n    }\n</style>\n<table border=\"1\" class=\"dataframe\">\n  <thead>\n    <tr style=\"text-align: right;\">\n      <th></th>\n      <th>id</th>\n      <th>title</th>\n      <th>category</th>\n      <th>description</th>\n      <th>description2</th>\n      <th>directors_actors</th>\n      <th>publication_date</th>\n      <th>rating</th>\n      <th>duration_sec</th>\n      <th>tags</th>\n      <th>tags2</th>\n      <th>image</th>\n    </tr>\n  </thead>\n  <tbody>\n    <tr>\n      <th>672</th>\n      <td>10672</td>\n      <td>hoopla doopla!</td>\n      <td>Kids</td>\n      <td>hoopla doopla! is a live action preschool show...</td>\n      <td>[Jango dresses up as a king and his friends mi...</td>\n      <td>[[]]</td>\n      <td>2022-01-28 06:15:10</td>\n      <td>G</td>\n      <td>[720.0, 720.0, 720.0, 720.0, 720.0, 720.0, 720...</td>\n      <td>[ABC Kids]</td>\n      <td>[abc4kids, 4movers, 4imagine, 4best, ps-birthd...</td>\n      <td>https://cdn.iview.abc.net.au/thumbs/i/ch/CH121...</td>\n    </tr>\n    <tr>\n      <th>673</th>\n      <td>10673</td>\n      <td>hoopla doopla! (Mandarin)</td>\n      <td>Education</td>\n      <td>hoopla doopla! is a live action preschool show...</td>\n      <td>[Jango is determined to be picked to be in the...</td>\n      <td>[[]]</td>\n      <td>2022-01-28 06:35:20</td>\n      <td>G</td>\n      <td>[720.0, 720.0, 720.0, 720.0, 720.0, 720.0, 720...</td>\n      <td>[ABC Kids]</td>\n      <td>[4liveaction, abc4kids, forever, education]</td>\n      <td>https://cdn.iview.abc.net.au/thumbs/i/zw/ZW103...</td>\n    </tr>\n    <tr>\n      <th>674</th>\n      <td>10674</td>\n      <td>storyTree</td>\n      <td>Education</td>\n      <td>Join storyteller, Miss Treeleaf, in an imagina...</td>\n      <td>[When little red hen bakes a cake, her lazy fr...</td>\n      <td>[[]]</td>\n      <td>2020-03-20 14:11:00</td>\n      <td>G</td>\n      <td>[210.0, 210.0, 210.0, 210.0, 210.0, 210.0, 210...</td>\n      <td>[ABC Kids, EDUCATION]</td>\n      <td>[primary-english, abc4kids, education, 4story,...</td>\n      <td>https://cdn.iview.abc.net.au/thumbs/i/zx/ZX941...</td>\n    </tr>\n    <tr>\n      <th>675</th>\n      <td>10675</td>\n      <td>triple j Like A Version</td>\n      <td>Arts</td>\n      <td>A popular segment recorded at triple j studios...</td>\n      <td>[1300 cover Psy for Like A Version., A.GIRL co...</td>\n      <td>[[]]</td>\n      <td>2022-03-18 18:00:00</td>\n      <td>M</td>\n      <td>[395.0, 407.0, 470.0, 238.0, 467.0]</td>\n      <td>[ABC TV, ARTS &amp; CULTURE]</td>\n      <td>[aussie, live-music, iview, ausmusic, rock-n-r...</td>\n      <td>https://cdn.iview.abc.net.au/thumbs/i/iv/IV220...</td>\n    </tr>\n    <tr>\n      <th>676</th>\n      <td>10676</td>\n      <td>triple j's One Night Stand, Lucindale</td>\n      <td>Arts</td>\n      <td>triple j takes the live music experience to a ...</td>\n      <td>[Hilltop Hoods live on stage with special gues...</td>\n      <td>[[]]</td>\n      <td>2019-09-16 17:00:00</td>\n      <td>M</td>\n      <td>[3873.0, 507.0, 2208.0, 2372.0, 2665.0]</td>\n      <td>[ABC ARTS, ABC TV Plus, ARTS &amp; CULTURE]</td>\n      <td>[triplej, abcarts, latest, performance, music,...</td>\n      <td>https://cdn.iview.abc.net.au/thumbs/i/rk/RK190...</td>\n    </tr>\n  </tbody>\n</table>\n</div>"
     },
     "execution_count": 1,
     "metadata": {},
     "output_type": "execute_result"
    }
   ],
   "source": [
    "import pandas as pd\n",
    "#read pkl file form ABC folder\n",
    "df = pd.read_pickle('/Users/ekaterinamazur/PycharmProjects/RS_assignment/ABC/full_movies.pkl')\n",
    "df_2 = pd.read_pickle('/Users/ekaterinamazur/PycharmProjects/RS_assignment/ABC/full_shows.pkl')\n",
    "df_2.tail()"
   ],
   "metadata": {
    "collapsed": false,
    "pycharm": {
     "name": "#%%\n"
    }
   }
  },
  {
   "cell_type": "code",
   "execution_count": 3,
   "outputs": [],
   "source": [
    "import random\n",
    "from datetime import datetime\n",
    "import json\n",
    "\n",
    "# Define the list of possible activities\n",
    "# activities = [\"Like\", \"Dislike\", \"Play\"]\n",
    "activities = {\"Like\": 0.4, \"Dislike\": 0.2, \"Play\": 0.4}\n",
    "\n",
    "# Create a list of dictionaries\n",
    "my_list = []\n",
    "for i in range(1000):\n",
    "    # Assign random values for user_id and activity\n",
    "    user_id = random.randint(0, 4)\n",
    "    activity = random.choices(list(activities.keys()), list(activities.values()))[0]\n",
    "    content_id = random.randint(0, 321)\n",
    "\n",
    "    # Create a dictionary with fixed values for content_id and datetime\n",
    "    my_dict = {\n",
    "        \"content_id\": content_id,\n",
    "        \"activity\": activity,\n",
    "        \"user_id\": user_id,\n",
    "        \"datetime\": datetime.now().strftime(\"%Y-%m-%d %H:%M:%S.%f\")\n",
    "    }\n",
    "\n",
    "    # Add the dictionary to the list\n",
    "    my_list.append(my_dict)\n",
    "\n",
    "with open(\"movie_activities.json\", \"w\") as f:\n",
    "    json.dump(my_list, f)"
   ],
   "metadata": {
    "collapsed": false,
    "pycharm": {
     "name": "#%%\n"
    }
   }
  },
  {
   "cell_type": "code",
   "execution_count": 4,
   "outputs": [],
   "source": [
    "#shows\n",
    "\n",
    "new = []\n",
    "\n",
    "for i in range(1500):\n",
    "    # Assign random values for user_id and activity\n",
    "    user_id = random.randint(0, 4)\n",
    "    activity = random.choices(list(activities.keys()), list(activities.values()))[0]\n",
    "    content_id = random.randint(10_000, 10_603)\n",
    "\n",
    "    # Create a dictionary with fixed values for content_id and datetime\n",
    "    my_dict = {\n",
    "        \"content_id\": content_id,\n",
    "        \"activity\": activity,\n",
    "        \"user_id\": user_id,\n",
    "        \"datetime\": datetime.now().strftime(\"%Y-%m-%d %H:%M:%S.%f\")\n",
    "    }\n",
    "\n",
    "    # Add the dictionary to the list\n",
    "    new.append(my_dict)\n",
    "\n",
    "with open(\"show_activities.json\", \"w\") as f:\n",
    "    json.dump(new, f)"
   ],
   "metadata": {
    "collapsed": false,
    "pycharm": {
     "name": "#%%\n"
    }
   }
  },
  {
   "cell_type": "code",
   "execution_count": null,
   "metadata": {
    "pycharm": {
     "name": "#%%\n"
    }
   },
   "outputs": [],
   "source": []
  }
 ],
 "metadata": {
  "kernelspec": {
   "display_name": "Python 3",
   "language": "python",
   "name": "python3"
  },
  "language_info": {
   "codemirror_mode": {
    "name": "ipython",
    "version": 3
   },
   "file_extension": ".py",
   "mimetype": "text/x-python",
   "name": "python",
   "nbconvert_exporter": "python",
   "pygments_lexer": "ipython3",
   "version": "3.8.5"
  }
 },
 "nbformat": 4,
 "nbformat_minor": 1
}
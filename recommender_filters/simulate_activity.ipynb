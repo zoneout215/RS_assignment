{
 "cells": [
  {
   "cell_type": "code",
   "execution_count": 4,
   "metadata": {
    "pycharm": {
     "name": "#%%\n"
    }
   },
   "outputs": [],
   "source": [
    "import random\n",
    "from datetime import datetime\n",
    "import json\n",
    "\n",
    "# Define the list of possible activities\n",
    "# activities = [\"Like\", \"Dislike\", \"Play\"]\n",
    "activities = {\"Like\": 0.4, \"Dislike\": 0.2, \"Play\": 0.4}\n",
    "\n",
    "# movies\n",
    "\n",
    "# Create a list of dictionaries\n",
    "my_list = []\n",
    "for i in range(3000):\n",
    "    # Assign random values for user_id and activity\n",
    "    user_id = random.randint(0, 4)\n",
    "    activity = random.choices(list(activities.keys()), list(activities.values()))[0]\n",
    "    content_id = random.randint(0, 321)\n",
    "\n",
    "    # Create a dictionary with fixed values for content_id and datetime\n",
    "    my_dict = {\n",
    "        \"content_id\": content_id,\n",
    "        \"activity\": activity,\n",
    "        \"user_id\": user_id,\n",
    "        \"datetime\": datetime.now().strftime(\"%Y-%m-%d %H:%M:%S.%f\")\n",
    "    }\n",
    "\n",
    "    # Add the dictionary to the list\n",
    "    my_list.append(my_dict)\n",
    "\n",
    "with open(\"movie_activities.json\", \"w\") as f:\n",
    "    json.dump(my_list, f)"
   ]
  },
  {
   "cell_type": "code",
   "execution_count": 5,
   "metadata": {
    "pycharm": {
     "name": "#%%\n"
    }
   },
   "outputs": [],
   "source": [
    "#shows\n",
    "\n",
    "new = []\n",
    "\n",
    "for i in range(5000):\n",
    "    # Assign random values for user_id and activity\n",
    "    user_id = random.randint(0, 4)\n",
    "    activity = random.choices(list(activities.keys()), list(activities.values()))[0]\n",
    "    content_id = random.randint(10_000, 10_603)\n",
    "\n",
    "    # Create a dictionary with fixed values for content_id and datetime\n",
    "    my_dict = {\n",
    "        \"content_id\": content_id,\n",
    "        \"activity\": activity,\n",
    "        \"user_id\": user_id,\n",
    "        \"datetime\": datetime.now().strftime(\"%Y-%m-%d %H:%M:%S.%f\")\n",
    "    }\n",
    "\n",
    "    # Add the dictionary to the list\n",
    "    new.append(my_dict)\n",
    "\n",
    "with open(\"show_activities.json\", \"w\") as f:\n",
    "    json.dump(new, f)"
   ]
  },
  {
   "cell_type": "code",
   "execution_count": 3,
   "metadata": {
    "pycharm": {
     "name": "#%%\n"
    }
   },
   "outputs": [],
   "source": [
    "# Save the list to a JSON file\n",
    "with open(\"show_activities.json\", \"w\") as f:\n",
    "    json.dump(new, f)\n",
    "# Print the resulting list of dictionaries"
   ]
  },
  {
   "cell_type": "code",
   "execution_count": null,
   "metadata": {
    "pycharm": {
     "name": "#%%\n"
    }
   },
   "outputs": [],
   "source": []
  }
 ],
 "metadata": {
  "kernelspec": {
   "display_name": "Python 3",
   "language": "python",
   "name": "python3"
  },
  "language_info": {
   "codemirror_mode": {
    "name": "ipython",
    "version": 3
   },
   "file_extension": ".py",
   "mimetype": "text/x-python",
   "name": "python",
   "nbconvert_exporter": "python",
   "pygments_lexer": "ipython3",
   "version": "3.8.5"
  }
 },
 "nbformat": 4,
 "nbformat_minor": 1
}

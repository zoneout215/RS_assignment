{
 "cells": [
  {
   "cell_type": "code",
   "execution_count": 116,
   "metadata": {},
   "outputs": [],
   "source": [
    "import os\n",
    "import pandas as pd\n",
    "import numpy as np\n",
    "from tqdm  import tqdm\n",
    "import pickle\n",
    "import re\n",
    "import glob"
   ]
  },
  {
   "cell_type": "markdown",
   "metadata": {},
   "source": [
    "# Data preparation"
   ]
  },
  {
   "cell_type": "code",
   "execution_count": 117,
   "metadata": {},
   "outputs": [
    {
     "name": "stderr",
     "output_type": "stream",
     "text": [
      "100%|██████████| 10/10 [00:00<00:00, 240.88it/s]\n"
     ]
    }
   ],
   "source": [
    "# Set the directory path where the pickle files are located\n",
    "current_dir = os.getcwd()  # gets current working directory\n",
    "project_dir = os.path.dirname(current_dir)  \n",
    "directory_path = os.path.dirname(current_dir) + os.sep + 'data' + os.sep\n",
    "\n",
    "# Get a list of all the pickle files in the directory\n",
    "pickle_files = [os.path.join(directory_path, f) for f in os.listdir(directory_path) if f.endswith('.pkl') and f.startswith('full') == False ]\n",
    "\n",
    "# Load and concatenate the data from each file\n",
    "# create the empty dataframe with 13 columns\n",
    "\n",
    "concatenated_data = []\n",
    "for file in tqdm(pickle_files):\n",
    "    with open(file, 'rb') as f:\n",
    "        staged_data = pickle.load(f)\n",
    "        concatenated_data.append(staged_data)\n",
    "\n",
    "data = pd.concat(concatenated_data, axis=0)\n",
    "# adding id\n",
    "data['id'] = data.index\n",
    "cols = data.columns.tolist()\n",
    "cols = cols[-1:] + cols[:-1]\n",
    "data = data[cols]"
   ]
  },
  {
   "cell_type": "code",
   "execution_count": 118,
   "metadata": {},
   "outputs": [
    {
     "name": "stdout",
     "output_type": "stream",
     "text": [
      "<class 'pandas.core.frame.DataFrame'>\n",
      "Int64Index: 13885 entries, 0 to 2528\n",
      "Data columns (total 14 columns):\n",
      " #   Column            Non-Null Count  Dtype  \n",
      "---  ------            --------------  -----  \n",
      " 0   id                13885 non-null  int64  \n",
      " 1   category          13885 non-null  object \n",
      " 2   title             13883 non-null  object \n",
      " 3   series            13286 non-null  object \n",
      " 4   episode_name      13874 non-null  object \n",
      " 5   description       13883 non-null  object \n",
      " 6   description2      13880 non-null  object \n",
      " 7   tags              13883 non-null  object \n",
      " 8   image             13883 non-null  object \n",
      " 9   directors_actors  13885 non-null  object \n",
      " 10  tags2             13880 non-null  object \n",
      " 11  publication_date  13880 non-null  object \n",
      " 12  rating            11948 non-null  object \n",
      " 13  duration_sec      13879 non-null  float64\n",
      "dtypes: float64(1), int64(1), object(12)\n",
      "memory usage: 1.6+ MB\n"
     ]
    }
   ],
   "source": [
    "# arts is incorrectly labelled as comedy, also good naming, and missing values\n",
    "\n",
    "data['category'].replace('Comedy', 'Arts', inplace = True)\n",
    "data.rename({'more':'directors_actors'}, axis = 1, inplace = True)\n",
    "data.replace(['No data found', 'No more information found', \n",
    "              'No title found', 'No tags found', 'No image found', 'No description found'], np.nan, inplace = True)\n",
    "\n",
    "data['directors_actors'] = data['directors_actors'].apply(str).apply(lambda x : x.split(', ') if x != 'nan' else [])\n",
    "\n",
    "data.info()"
   ]
  },
  {
   "cell_type": "code",
   "execution_count": 119,
   "metadata": {},
   "outputs": [
    {
     "name": "stdout",
     "output_type": "stream",
     "text": [
      "<class 'pandas.core.frame.DataFrame'>\n",
      "Int64Index: 13873 entries, 0 to 2528\n",
      "Data columns (total 14 columns):\n",
      " #   Column            Non-Null Count  Dtype  \n",
      "---  ------            --------------  -----  \n",
      " 0   id                13873 non-null  int64  \n",
      " 1   category          13873 non-null  object \n",
      " 2   title             13873 non-null  object \n",
      " 3   series            13279 non-null  object \n",
      " 4   episode_name      13873 non-null  object \n",
      " 5   description       13873 non-null  object \n",
      " 6   description2      13873 non-null  object \n",
      " 7   tags              13873 non-null  object \n",
      " 8   image             13873 non-null  object \n",
      " 9   directors_actors  13873 non-null  object \n",
      " 10  tags2             13873 non-null  object \n",
      " 11  publication_date  13873 non-null  object \n",
      " 12  rating            11946 non-null  object \n",
      " 13  duration_sec      13873 non-null  float64\n",
      "dtypes: float64(1), int64(1), object(12)\n",
      "memory usage: 1.6+ MB\n"
     ]
    }
   ],
   "source": [
    "cols = list(data.columns)\n",
    "# dropping nans where it is necessary\n",
    "unwanted = ['directors_actors', 'rating', 'series', 'directors_actors']\n",
    "cols = [x for x in cols if x not in unwanted]\n",
    "\n",
    "clean = data.dropna(subset = cols)\n",
    "clean.info()"
   ]
  },
  {
   "cell_type": "code",
   "execution_count": 120,
   "metadata": {},
   "outputs": [
    {
     "data": {
      "text/plain": [
       "(562, 14)"
      ]
     },
     "execution_count": 109,
     "metadata": {},
     "output_type": "execute_result"
    }
   ],
   "source": [
    "films = clean[(clean['series'].isna()) & (clean['category'] != 'News')]\n",
    "films.shape"
   ]
  },
  {
   "attachments": {},
   "cell_type": "markdown",
   "metadata": {},
   "source": [
    "# Creating special columns for episodes"
   ]
  },
  {
   "cell_type": "code",
   "execution_count": 121,
   "metadata": {},
   "outputs": [
    {
     "data": {
      "text/html": [
       "<div>\n",
       "<style scoped>\n",
       "    .dataframe tbody tr th:only-of-type {\n",
       "        vertical-align: middle;\n",
       "    }\n",
       "\n",
       "    .dataframe tbody tr th {\n",
       "        vertical-align: top;\n",
       "    }\n",
       "\n",
       "    .dataframe thead th {\n",
       "        text-align: right;\n",
       "    }\n",
       "</style>\n",
       "<table border=\"1\" class=\"dataframe\">\n",
       "  <thead>\n",
       "    <tr style=\"text-align: right;\">\n",
       "      <th></th>\n",
       "      <th>id</th>\n",
       "      <th>category</th>\n",
       "      <th>title</th>\n",
       "      <th>series</th>\n",
       "      <th>episode_name</th>\n",
       "      <th>description</th>\n",
       "      <th>description2</th>\n",
       "      <th>tags</th>\n",
       "      <th>image</th>\n",
       "      <th>directors_actors</th>\n",
       "      <th>tags2</th>\n",
       "      <th>publication_date</th>\n",
       "      <th>rating</th>\n",
       "      <th>duration_sec</th>\n",
       "      <th>season</th>\n",
       "      <th>episode</th>\n",
       "      <th>episode_title</th>\n",
       "    </tr>\n",
       "  </thead>\n",
       "  <tbody>\n",
       "    <tr>\n",
       "      <th>0</th>\n",
       "      <td>0</td>\n",
       "      <td>Panel Discussion</td>\n",
       "      <td>Spicks And Specks</td>\n",
       "      <td>Spicks And Specks</td>\n",
       "      <td>Series 9 Missy Higgins, Dave O'Neil, Yeo &amp; Jud...</td>\n",
       "      <td>Join Adam Hills, Myf Warhurst and Alan Brough ...</td>\n",
       "      <td>Missy Higgins and Dave O'Neil help Alan battle...</td>\n",
       "      <td>[ABC TV, PANEL &amp; DISCUSSION]</td>\n",
       "      <td>https://cdn.iview.abc.net.au/thumbs/i/le/LE200...</td>\n",
       "      <td>[Hosts Adam Hills, Myf Warhurst, Alan Brough]</td>\n",
       "      <td>[abc1, australia, panel, music, culture, enter...</td>\n",
       "      <td>2021-06-20 20:27:00</td>\n",
       "      <td>PG</td>\n",
       "      <td>2701.0</td>\n",
       "      <td>9</td>\n",
       "      <td></td>\n",
       "      <td>Missy Higgins, Dave O'Neil, Yeo &amp; Judith Lucy</td>\n",
       "    </tr>\n",
       "    <tr>\n",
       "      <th>1</th>\n",
       "      <td>1</td>\n",
       "      <td>Panel Discussion</td>\n",
       "      <td>Would I Lie To You?</td>\n",
       "      <td>Would I Lie To You?</td>\n",
       "      <td>Series 13 Episode 4</td>\n",
       "      <td>Rob Brydon is back in the host's chair for ano...</td>\n",
       "      <td>Host Rob Brydon and team captains Lee Mack and...</td>\n",
       "      <td>[ABC TV Plus, COMEDY, PANEL &amp; DISCUSSION]</td>\n",
       "      <td>https://cdn.iview.abc.net.au/thumbs/i/zw/ZW213...</td>\n",
       "      <td>[Host Rob Brydon]</td>\n",
       "      <td>[abc2, uk, comedy, panel, entertainment, cult-...</td>\n",
       "      <td>2022-02-08 20:30:35</td>\n",
       "      <td>PG</td>\n",
       "      <td>1737.0</td>\n",
       "      <td>13</td>\n",
       "      <td>4</td>\n",
       "      <td></td>\n",
       "    </tr>\n",
       "    <tr>\n",
       "      <th>2</th>\n",
       "      <td>2</td>\n",
       "      <td>Panel Discussion</td>\n",
       "      <td>Whovians</td>\n",
       "      <td>Whovians</td>\n",
       "      <td>Series 3 Episode 9</td>\n",
       "      <td>Join Rove McManus, Tegan Higginbotham and Bajo...</td>\n",
       "      <td>Rove McManus, Tegan Higginbotham and Bajo are ...</td>\n",
       "      <td>[ABC TV Plus, COMEDY, PANEL &amp; DISCUSSION]</td>\n",
       "      <td>https://cdn.iview.abc.net.au/thumbs/i/le/LE191...</td>\n",
       "      <td>[Hosts Rove McManus, Tegan Higginbotham, Steve...</td>\n",
       "      <td>[abc2, aussie, comedy, panel, entertainment, q...</td>\n",
       "      <td>2020-03-05 21:38:00</td>\n",
       "      <td>PG</td>\n",
       "      <td>2090.0</td>\n",
       "      <td>3</td>\n",
       "      <td>9</td>\n",
       "      <td></td>\n",
       "    </tr>\n",
       "  </tbody>\n",
       "</table>\n",
       "</div>"
      ],
      "text/plain": [
       "   id          category                title               series  \\\n",
       "0   0  Panel Discussion    Spicks And Specks    Spicks And Specks   \n",
       "1   1  Panel Discussion  Would I Lie To You?  Would I Lie To You?   \n",
       "2   2  Panel Discussion             Whovians             Whovians   \n",
       "\n",
       "                                        episode_name  \\\n",
       "0  Series 9 Missy Higgins, Dave O'Neil, Yeo & Jud...   \n",
       "1                                Series 13 Episode 4   \n",
       "2                                 Series 3 Episode 9   \n",
       "\n",
       "                                         description  \\\n",
       "0  Join Adam Hills, Myf Warhurst and Alan Brough ...   \n",
       "1  Rob Brydon is back in the host's chair for ano...   \n",
       "2  Join Rove McManus, Tegan Higginbotham and Bajo...   \n",
       "\n",
       "                                        description2  \\\n",
       "0  Missy Higgins and Dave O'Neil help Alan battle...   \n",
       "1  Host Rob Brydon and team captains Lee Mack and...   \n",
       "2  Rove McManus, Tegan Higginbotham and Bajo are ...   \n",
       "\n",
       "                                        tags  \\\n",
       "0               [ABC TV, PANEL & DISCUSSION]   \n",
       "1  [ABC TV Plus, COMEDY, PANEL & DISCUSSION]   \n",
       "2  [ABC TV Plus, COMEDY, PANEL & DISCUSSION]   \n",
       "\n",
       "                                               image  \\\n",
       "0  https://cdn.iview.abc.net.au/thumbs/i/le/LE200...   \n",
       "1  https://cdn.iview.abc.net.au/thumbs/i/zw/ZW213...   \n",
       "2  https://cdn.iview.abc.net.au/thumbs/i/le/LE191...   \n",
       "\n",
       "                                    directors_actors  \\\n",
       "0      [Hosts Adam Hills, Myf Warhurst, Alan Brough]   \n",
       "1                                  [Host Rob Brydon]   \n",
       "2  [Hosts Rove McManus, Tegan Higginbotham, Steve...   \n",
       "\n",
       "                                               tags2     publication_date  \\\n",
       "0  [abc1, australia, panel, music, culture, enter...  2021-06-20 20:27:00   \n",
       "1  [abc2, uk, comedy, panel, entertainment, cult-...  2022-02-08 20:30:35   \n",
       "2  [abc2, aussie, comedy, panel, entertainment, q...  2020-03-05 21:38:00   \n",
       "\n",
       "  rating  duration_sec season episode  \\\n",
       "0     PG        2701.0      9           \n",
       "1     PG        1737.0     13       4   \n",
       "2     PG        2090.0      3       9   \n",
       "\n",
       "                                     episode_title  \n",
       "0    Missy Higgins, Dave O'Neil, Yeo & Judith Lucy  \n",
       "1                                                   \n",
       "2                                                   "
      ]
     },
     "execution_count": 121,
     "metadata": {},
     "output_type": "execute_result"
    }
   ],
   "source": [
    "seasons = []\n",
    "eps = []\n",
    "ep_descs = []\n",
    "\n",
    "for index, row in clean.iterrows():\n",
    "    i = index\n",
    "    txt = row.episode_name\n",
    "    try:\n",
    "        season = re.findall('Series [0-9]{1,2}', txt)[0]\n",
    "        season = re.findall('[0-9]+', season)[0]\n",
    "        seasons.append(season)\n",
    "    except:\n",
    "        seasons.append(np.nan)\n",
    "    try: \n",
    "        ep = re.findall('Episode [0-9]{1,2}', txt)[0]\n",
    "        ep = re.findall('[0-9]+', ep)[0]\n",
    "        eps.append(ep)\n",
    "    except:\n",
    "        eps.append('')\n",
    "    desc = re.sub('[0-9]+', '', txt)\n",
    "    desc = desc.replace('Series', '')\n",
    "    desc = desc.replace('Episode', '')\n",
    "    ep_descs.append(desc)\n",
    "\n",
    "clean = clean.assign(season=seasons, episode=eps, episode_title=ep_descs)\n",
    "clean.head(3)"
   ]
  },
  {
   "cell_type": "code",
   "execution_count": 122,
   "metadata": {},
   "outputs": [],
   "source": [
    "# Write the concatenated data to a new file\n",
    "if os.path.exists(directory_path + 'full_data.pkl'):\n",
    "    os.remove(directory_path + 'full_data.pkl')\n",
    "\n",
    "with open(directory_path + 'full_data.pkl', 'wb') as f:\n",
    "    pickle.dump(clean, f)"
   ]
  },
  {
   "cell_type": "code",
   "execution_count": 128,
   "metadata": {},
   "outputs": [],
   "source": [
    "# Separating the films from the series\n",
    "films = clean[(clean['series'].isna()) & (clean['category'] != 'News') & (clean['category'] != 'Panel Discussion')]\n",
    "\n",
    "if os.path.exists(directory_path + 'full_movies.pkl'):\n",
    "    os.remove(directory_path + 'full_movies.pkl')\n",
    "\n",
    "with open(directory_path + 'full_movies.pkl', 'wb') as f:\n",
    "    pickle.dump(films, f)"
   ]
  },
  {
   "attachments": {},
   "cell_type": "markdown",
   "metadata": {},
   "source": [
    "# Creating a new dataframe with only the series"
   ]
  },
  {
   "cell_type": "code",
   "execution_count": 125,
   "metadata": {},
   "outputs": [],
   "source": [
    "series_raw = clean[(clean['series'].isna()==False)]\n",
    "\n",
    "# assuming your original dataframe is called 'tv_series'\n",
    "series_grouped = series_raw.groupby('title')\n",
    "\n",
    "# create a new dataframe with the relevant information per TV series\n",
    "series = pd.DataFrame({\n",
    "    'category': series_grouped['category'].first(),\n",
    "    'description': series_grouped['description'].first(),\n",
    "    'description2': series_grouped['description2'].agg(list),\n",
    "    'directors_actors': series_grouped['directors_actors'].sum().apply(set).apply(list),\n",
    "    'publication_date': series_grouped['publication_date'].first(),\n",
    "    'rating': series_grouped['rating'].first(),\n",
    "    'duration_sec': series_grouped['duration_sec'].agg(list),\n",
    "    'tags': series_grouped['tags'].first(),\n",
    "    'tags2' : series_grouped['tags2'].sum().apply(set).apply(list)\n",
    "})"
   ]
  },
  {
   "cell_type": "code",
   "execution_count": 126,
   "metadata": {},
   "outputs": [],
   "source": [
    "# Write the concatenated data to a new file\n",
    "if os.path.exists(directory_path + 'full_shows.pkl'):\n",
    "    os.remove(directory_path + 'full_shows.pkl')\n",
    "\n",
    "with open(directory_path + 'full_shows.pkl', 'wb') as f:\n",
    "    pickle.dump(series, f)"
   ]
  }
 ],
 "metadata": {
  "kernelspec": {
   "display_name": "Python 3",
   "language": "python",
   "name": "python3"
  },
  "language_info": {
   "codemirror_mode": {
    "name": "ipython",
    "version": 3
   },
   "file_extension": ".py",
   "mimetype": "text/x-python",
   "name": "python",
   "nbconvert_exporter": "python",
   "pygments_lexer": "ipython3",
   "version": "3.10.8"
  }
 },
 "nbformat": 4,
 "nbformat_minor": 4
}

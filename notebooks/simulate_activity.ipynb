{
 "cells": [
  {
   "cell_type": "code",
   "execution_count": 13,
   "metadata": {
    "pycharm": {
     "name": "#%%\n"
    }
   },
   "outputs": [],
   "source": [
    "import random\n",
    "from datetime import datetime\n",
    "import pandas as pd\n",
    "import json\n",
    "import os\n",
    "\n",
    "current_dir = os.getcwd()  # gets current working directory\n",
    "project_dir = os.path.dirname(current_dir)  \n",
    "directory_path = os.path.dirname(current_dir) + os.sep + 'data' + os.sep\n",
    "full_movies = pd.read_pickle(directory_path + 'full_movies.pkl')\n",
    "full_shows = pd.read_pickle(directory_path + 'full_shows.pkl')\n",
    "\n",
    "\n",
    "# Define the list of possible activities\n",
    "activities = {\"Like\": 0.4, \"Dislike\": 0.2, \"Play\": 0.4}\n",
    "\n",
    "# Create a list of dictionaries\n",
    "my_list = []\n",
    "for i in range(10):\n",
    "    # Assign random values for user_id and activity\n",
    "    user_id = random.randint(0,30)\n",
    "    activity = random.choices(list(activities.keys()), list(activities.values()))[0]\n",
    "    content_id = random.randint(0, len(full_movies))\n",
    "\n",
    "    # Create a dictionary with fixed values for content_id and datetime\n",
    "    my_dict = {\n",
    "        \"content_id\": content_id,\n",
    "        \"activity\": activity,\n",
    "        \"user_id\": user_id,\n",
    "        \"datetime\": datetime.now().strftime(\"%Y-%m-%d %H:%M:%S.%f\")\n",
    "    }\n",
    "\n",
    "    # Add the dictionary to the list\n",
    "    my_list.append(my_dict)\n",
    "\n",
    "with open(directory_path + 'activities.json', 'r') as f:\n",
    "  data = json.load(f)\n",
    "  data.extend(my_list)\n",
    "#write it back to the file\n",
    "with open(directory_path + 'activities.json', 'w') as f:\n",
    "  json.dump(data, f, indent=4)\n",
    "\n"
   ]
  },
  {
   "cell_type": "code",
   "execution_count": 14,
   "outputs": [
    {
     "name": "stdout",
     "output_type": "stream",
     "text": [
      "[{'content_id': 34, 'activity': 'Like', 'user_id': 14, 'datetime': '2023-04-02 14:15:42.787656'}, {'content_id': 282, 'activity': 'Play', 'user_id': 13, 'datetime': '2023-04-02 14:15:42.787935'}, {'content_id': 310, 'activity': 'Like', 'user_id': 1, 'datetime': '2023-04-02 14:15:42.787958'}, {'content_id': 51, 'activity': 'Play', 'user_id': 7, 'datetime': '2023-04-02 14:15:42.787976'}, {'content_id': 181, 'activity': 'Play', 'user_id': 4, 'datetime': '2023-04-02 14:15:42.787992'}, {'content_id': 56, 'activity': 'Like', 'user_id': 5, 'datetime': '2023-04-02 14:15:42.788008'}, {'content_id': 47, 'activity': 'Dislike', 'user_id': 23, 'datetime': '2023-04-02 14:15:42.788024'}, {'content_id': 345, 'activity': 'Play', 'user_id': 30, 'datetime': '2023-04-02 14:15:42.788039'}, {'content_id': 265, 'activity': 'Play', 'user_id': 12, 'datetime': '2023-04-02 14:15:42.788054'}, {'content_id': 320, 'activity': 'Dislike', 'user_id': 18, 'datetime': '2023-04-02 14:15:42.788069'}]\n"
     ]
    }
   ],
   "source": [
    "print(my_list)"
   ],
   "metadata": {
    "collapsed": false,
    "pycharm": {
     "name": "#%%\n"
    }
   }
  },
  {
   "cell_type": "code",
   "execution_count": 12,
   "outputs": [],
   "source": [
    "#shows\n",
    "\n",
    "new = []\n",
    "\n",
    "for i in range(500):\n",
    "    # Assign random values for user_id and activity\n",
    "    user_id = random.randint(0, 4)\n",
    "    activity = random.choices(list(activities.keys()), list(activities.values()))[0]\n",
    "    content_id = random.randint(full_shows.id.iloc[0], full_shows.id.iloc[-1]+1)\n",
    "\n",
    "    # Create a dictionary with fixed values for content_id and datetime\n",
    "    my_dict = {\n",
    "        \"content_id\": content_id,\n",
    "        \"activity\": activity,\n",
    "        \"user_id\": user_id,\n",
    "        \"datetime\": datetime.now().strftime(\"%Y-%m-%d %H:%M:%S.%f\")\n",
    "    }\n",
    "\n",
    "    # Add the dictionary to the list\n",
    "    new.append(my_dict)\n",
    "\n",
    "# Save the list to a JSON file   \n",
    "# with open(directory_path + \"show_activities.json\", \"w\") as f:\n",
    "#     json.dump(new, f)\n",
    "\n",
    "with open(directory_path+'activities.json', 'r') as f:\n",
    "  data = json.load(f)\n",
    "  data.extend(new)\n",
    "with open(directory_path + 'activities.json', 'w') as f:\n",
    "  json.dump(data, f, indent=4)"
   ],
   "metadata": {
    "collapsed": false,
    "pycharm": {
     "name": "#%%\n"
    }
   }
  },
  {
   "cell_type": "code",
   "execution_count": null,
   "outputs": [],
   "source": [],
   "metadata": {
    "collapsed": false,
    "pycharm": {
     "name": "#%%\n"
    }
   }
  }
 ],
 "metadata": {
  "kernelspec": {
   "display_name": "Python 3",
   "language": "python",
   "name": "python3"
  },
  "language_info": {
   "codemirror_mode": {
    "name": "ipython",
    "version": 3
   },
   "file_extension": ".py",
   "mimetype": "text/x-python",
   "name": "python",
   "nbconvert_exporter": "python",
   "pygments_lexer": "ipython3",
   "version": "3.8.5"
  }
 },
 "nbformat": 4,
 "nbformat_minor": 1
}
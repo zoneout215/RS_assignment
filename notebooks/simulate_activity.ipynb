{
 "cells": [
  {
   "cell_type": "code",
   "execution_count": 78,
   "metadata": {
    "pycharm": {
     "name": "#%%\n"
    }
   },
   "outputs": [],
   "source": [
    "import random\n",
    "from datetime import datetime\n",
    "import pandas as pd\n",
    "import json\n",
    "import os\n",
    "\n",
    "current_dir = os.getcwd()  # gets current working directory\n",
    "project_dir = os.path.dirname(current_dir)  \n",
    "directory_path = os.path.dirname(current_dir) + os.sep + 'data' + os.sep\n",
    "full_movies = pd.read_pickle(directory_path + 'full_movies.pkl')\n",
    "full_shows = pd.read_pickle(directory_path + 'full_shows.pkl')\n",
    "\n",
    "\n",
    "# Define the list of possible activities\n",
    "activities = {\"Like\": 0.4, \"Dislike\": 0.2, \"Play\": 0.4}\n",
    "\n",
    "# Create a list of dictionaries\n",
    "my_list = []\n",
    "for i in range(5000):\n",
    "    # Assign random values for user_id and activity\n",
    "    user_id = random.randint(0,30)\n",
    "    activity = random.choices(list(activities.keys()), list(activities.values()))[0]\n",
    "    content_id = random.randint(0, len(full_movies))\n",
    "  \n",
    "    # Create a dictionary with fixed values for content_id and datetime\n",
    "    my_dict = {\n",
    "        \"content_id\": content_id,\n",
    "        \"activity\": activity,\n",
    "        \"user_id\": user_id,\n",
    "        \"datetime\": datetime.now().strftime(\"%Y-%m-%d %H:%M:%S.%f\"),\n",
    "        \"category\": \"movie\"\n",
    "\n",
    "    }\n",
    "\n",
    "    # Add the dictionary to the list\n",
    "    my_list.append(my_dict)\n",
    "\n",
    "with open(directory_path + 'activities.json', 'r') as f:\n",
    "  data = json.load(f)\n",
    "  data.extend(my_list)\n",
    "#write it back to the file\n",
    "with open(directory_path + 'activities.json', 'w') as f:\n",
    "  json.dump(data, f, indent=4)\n",
    "\n"
   ]
  },
  {
   "cell_type": "code",
   "execution_count": 79,
   "metadata": {
    "collapsed": false,
    "pycharm": {
     "name": "#%%\n"
    }
   },
   "outputs": [
    {
     "name": "stdout",
     "output_type": "stream",
     "text": [
      "[{'content_id': 184, 'activity': 'Play', 'user_id': 23, 'datetime': '2023-04-02 19:28:36.171342', 'category': 'movie'}, {'content_id': 263, 'activity': 'Dislike', 'user_id': 4, 'datetime': '2023-04-02 19:28:36.171372', 'category': 'movie'}, {'content_id': 183, 'activity': 'Like', 'user_id': 15, 'datetime': '2023-04-02 19:28:36.171379', 'category': 'movie'}, {'content_id': 107, 'activity': 'Like', 'user_id': 3, 'datetime': '2023-04-02 19:28:36.171384', 'category': 'movie'}, {'content_id': 25, 'activity': 'Like', 'user_id': 13, 'datetime': '2023-04-02 19:28:36.171389', 'category': 'movie'}, {'content_id': 103, 'activity': 'Play', 'user_id': 15, 'datetime': '2023-04-02 19:28:36.171393', 'category': 'movie'}, {'content_id': 260, 'activity': 'Play', 'user_id': 6, 'datetime': '2023-04-02 19:28:36.171398', 'category': 'movie'}, {'content_id': 289, 'activity': 'Play', 'user_id': 5, 'datetime': '2023-04-02 19:28:36.171402', 'category': 'movie'}, {'content_id': 98, 'activity': 'Play', 'user_id': 30, 'datetime': '2023-04-02 19:28:36.171406', 'category': 'movie'}, {'content_id': 279, 'activity': 'Dislike', 'user_id': 13, 'datetime': '2023-04-02 19:28:36.171410', 'category': 'movie'}, {'content_id': 222, 'activity': 'Dislike', 'user_id': 19, 'datetime': '2023-04-02 19:28:36.171415', 'category': 'movie'}, {'content_id': 289, 'activity': 'Play', 'user_id': 3, 'datetime': '2023-04-02 19:28:36.171419', 'category': 'movie'}, {'content_id': 290, 'activity': 'Play', 'user_id': 14, 'datetime': '2023-04-02 19:28:36.171423', 'category': 'movie'}, {'content_id': 350, 'activity': 'Play', 'user_id': 3, 'datetime': '2023-04-02 19:28:36.171427', 'category': 'movie'}, {'content_id': 286, 'activity': 'Dislike', 'user_id': 8, 'datetime': '2023-04-02 19:28:36.171431', 'category': 'movie'}, {'content_id': 253, 'activity': 'Dislike', 'user_id': 6, 'datetime': '2023-04-02 19:28:36.171436', 'category': 'movie'}, {'content_id': 113, 'activity': 'Play', 'user_id': 23, 'datetime': '2023-04-02 19:28:36.171440', 'category': 'movie'}, {'content_id': 226, 'activity': 'Play', 'user_id': 28, 'datetime': '2023-04-02 19:28:36.171444', 'category': 'movie'}, {'content_id': 324, 'activity': 'Dislike', 'user_id': 9, 'datetime': '2023-04-02 19:28:36.171448', 'category': 'movie'}, {'content_id': 269, 'activity': 'Play', 'user_id': 2, 'datetime': '2023-04-02 19:28:36.171452', 'category': 'movie'}, {'content_id': 45, 'activity': 'Play', 'user_id': 20, 'datetime': '2023-04-02 19:28:36.171456', 'category': 'movie'}, {'content_id': 331, 'activity': 'Play', 'user_id': 25, 'datetime': '2023-04-02 19:28:36.171460', 'category': 'movie'}, {'content_id': 271, 'activity': 'Like', 'user_id': 1, 'datetime': '2023-04-02 19:28:36.171464', 'category': 'movie'}, {'content_id': 304, 'activity': 'Like', 'user_id': 21, 'datetime': '2023-04-02 19:28:36.171468', 'category': 'movie'}, {'content_id': 44, 'activity': 'Like', 'user_id': 14, 'datetime': '2023-04-02 19:28:36.171472', 'category': 'movie'}, {'content_id': 224, 'activity': 'Like', 'user_id': 22, 'datetime': '2023-04-02 19:28:36.171476', 'category': 'movie'}, {'content_id': 244, 'activity': 'Dislike', 'user_id': 26, 'datetime': '2023-04-02 19:28:36.171480', 'category': 'movie'}, {'content_id': 108, 'activity': 'Dislike', 'user_id': 1, 'datetime': '2023-04-02 19:28:36.171484', 'category': 'movie'}, {'content_id': 322, 'activity': 'Like', 'user_id': 12, 'datetime': '2023-04-02 19:28:36.171488', 'category': 'movie'}, {'content_id': 239, 'activity': 'Like', 'user_id': 15, 'datetime': '2023-04-02 19:28:36.171492', 'category': 'movie'}, {'content_id': 266, 'activity': 'Like', 'user_id': 22, 'datetime': '2023-04-02 19:28:36.171496', 'category': 'movie'}, {'content_id': 320, 'activity': 'Play', 'user_id': 13, 'datetime': '2023-04-02 19:28:36.171500', 'category': 'movie'}, {'content_id': 285, 'activity': 'Play', 'user_id': 12, 'datetime': '2023-04-02 19:28:36.171504', 'category': 'movie'}, {'content_id': 343, 'activity': 'Like', 'user_id': 17, 'datetime': '2023-04-02 19:28:36.171508', 'category': 'movie'}, {'content_id': 63, 'activity': 'Like', 'user_id': 26, 'datetime': '2023-04-02 19:28:36.171512', 'category': 'movie'}, {'content_id': 275, 'activity': 'Dislike', 'user_id': 13, 'datetime': '2023-04-02 19:28:36.171516', 'category': 'movie'}, {'content_id': 258, 'activity': 'Like', 'user_id': 29, 'datetime': '2023-04-02 19:28:36.171520', 'category': 'movie'}, {'content_id': 125, 'activity': 'Play', 'user_id': 22, 'datetime': '2023-04-02 19:28:36.171524', 'category': 'movie'}, {'content_id': 160, 'activity': 'Play', 'user_id': 30, 'datetime': '2023-04-02 19:28:36.171528', 'category': 'movie'}, {'content_id': 342, 'activity': 'Dislike', 'user_id': 10, 'datetime': '2023-04-02 19:28:36.171532', 'category': 'movie'}, {'content_id': 339, 'activity': 'Dislike', 'user_id': 26, 'datetime': '2023-04-02 19:28:36.171536', 'category': 'movie'}, {'content_id': 352, 'activity': 'Like', 'user_id': 9, 'datetime': '2023-04-02 19:28:36.171540', 'category': 'movie'}, {'content_id': 302, 'activity': 'Like', 'user_id': 21, 'datetime': '2023-04-02 19:28:36.171544', 'category': 'movie'}, {'content_id': 85, 'activity': 'Like', 'user_id': 19, 'datetime': '2023-04-02 19:28:36.171548', 'category': 'movie'}, {'content_id': 212, 'activity': 'Dislike', 'user_id': 21, 'datetime': '2023-04-02 19:28:36.171552', 'category': 'movie'}, {'content_id': 239, 'activity': 'Play', 'user_id': 25, 'datetime': '2023-04-02 19:28:36.171556', 'category': 'movie'}, {'content_id': 218, 'activity': 'Like', 'user_id': 19, 'datetime': '2023-04-02 19:28:36.171560', 'category': 'movie'}, {'content_id': 182, 'activity': 'Play', 'user_id': 5, 'datetime': '2023-04-02 19:28:36.171564', 'category': 'movie'}, {'content_id': 148, 'activity': 'Dislike', 'user_id': 21, 'datetime': '2023-04-02 19:28:36.171568', 'category': 'movie'}, {'content_id': 230, 'activity': 'Like', 'user_id': 20, 'datetime': '2023-04-02 19:28:36.171572', 'category': 'movie'}]\n"
     ]
    }
   ],
   "source": [
    "print(my_list)"
   ]
  },
  {
   "cell_type": "code",
   "execution_count": 80,
   "metadata": {
    "collapsed": false,
    "pycharm": {
     "name": "#%%\n"
    }
   },
   "outputs": [],
   "source": [
    "#shows\n",
    "\n",
    "new = []\n",
    "\n",
    "for i in range(5000):\n",
    "    # Assign random values for user_id and activity\n",
    "    user_id = random.randint(0, 30)\n",
    "    activity = random.choices(list(activities.keys()), list(activities.values()))[0]\n",
    "    content_id = random.randint(full_shows.id.iloc[0], full_shows.id.iloc[-1]+1)\n",
    "\n",
    "    # Create a dictionary with fixed values for content_id and datetime\n",
    "    my_dict = {\n",
    "        \"content_id\": content_id,\n",
    "        \"activity\": activity,\n",
    "        \"user_id\": user_id,\n",
    "        \"datetime\": datetime.now().strftime(\"%Y-%m-%d %H:%M:%S.%f\"),\n",
    "        \"category\": \"show\"\n",
    "    }\n",
    "\n",
    "    # Add the dictionary to the list\n",
    "    new.append(my_dict)\n",
    "\n",
    "# Save the list to a JSON file   \n",
    "# with open(directory_path + \"show_activities.json\", \"w\") as f:\n",
    "#     json.dump(new, f)\n",
    "\n",
    "# with open(directory_path+'activities.json', 'r') as f:\n",
    "#   data = json.load(f)\n",
    "#   data.extend(new)\n",
    "# with open(directory_path + 'activities.json', 'w') as f:\n",
    "#   json.dump(data, f, indent=4)"
   ]
  },
  {
   "cell_type": "code",
   "execution_count": 81,
   "metadata": {
    "collapsed": false,
    "pycharm": {
     "name": "#%%\n"
    }
   },
   "outputs": [],
   "source": [
    "with open(directory_path+'activities.json', 'r') as f:\n",
    "  data = json.load(f)\n",
    "  data.extend(new)\n",
    "with open(directory_path + 'activities.json', 'w') as f:\n",
    "  json.dump(data, f, indent=4)"
   ]
  },
  {
   "cell_type": "code",
   "execution_count": null,
   "metadata": {
    "collapsed": false,
    "pycharm": {
     "name": "#%%\n"
    }
   },
   "outputs": [],
   "source": []
  }
 ],
 "metadata": {
  "kernelspec": {
   "display_name": "Python 3",
   "language": "python",
   "name": "python3"
  },
  "language_info": {
   "codemirror_mode": {
    "name": "ipython",
    "version": 3
   },
   "file_extension": ".py",
   "mimetype": "text/x-python",
   "name": "python",
   "nbconvert_exporter": "python",
   "pygments_lexer": "ipython3",
   "version": "3.8.5"
  }
 },
 "nbformat": 4,
 "nbformat_minor": 1
}

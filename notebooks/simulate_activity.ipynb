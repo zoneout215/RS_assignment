{
 "cells": [
  {
   "cell_type": "code",
   "execution_count": 18,
   "metadata": {
    "pycharm": {
     "name": "#%%\n"
    }
   },
   "outputs": [],
   "source": [
    "import random\n",
    "from datetime import datetime\n",
    "import pandas as pd\n",
    "import json\n",
    "import os\n",
    "\n",
    "current_dir = os.getcwd()  # gets current working directory\n",
    "project_dir = os.path.dirname(current_dir)  \n",
    "directory_path = os.path.dirname(current_dir) + os.sep + 'data' + os.sep\n",
    "full_movies = pd.read_pickle(directory_path + 'full_movies.pkl')\n",
    "full_shows = pd.read_pickle(directory_path + 'full_shows.pkl')\n",
    "\n",
    "\n",
    "# Define the list of possible activities\n",
    "activities = {\"Like\": 0.4, \"Dislike\": 0.2, \"Play\": 0.4}\n",
    "\n",
    "# Create a list of dictionaries\n",
    "my_list = []\n",
    "for i in range(10):\n",
    "    # Assign random values for user_id and activity\n",
    "    user_id = random.randint(0,32)\n",
    "    activity = random.choices(list(activities.keys()), list(activities.values()))[0]\n",
    "    content_id = random.randint(0, len(full_movies))\n",
    "\n",
    "    # Create a dictionary with fixed values for content_id and datetime\n",
    "    my_dict = {\n",
    "        \"content_id\": content_id,\n",
    "        \"activity\": activity,\n",
    "        \"user_id\": user_id,\n",
    "        \"datetime\": datetime.now().strftime(\"%Y-%m-%d %H:%M:%S.%f\")\n",
    "    }\n",
    "\n",
    "    # Add the dictionary to the list\n",
    "    my_list.append(my_dict)\n",
    "\n",
    "with open(directory_path + 'activities.json', 'r') as f:\n",
    "  data = json.load(f)\n",
    "  data.extend(my_list)\n",
    "#write it back to the file\n",
    "with open(directory_path + 'activities.json', 'w') as f:\n",
    "  json.dump(data, f, indent=4)\n",
    "\n"
   ]
  },
  {
   "cell_type": "code",
   "execution_count": 19,
   "outputs": [
    {
     "name": "stdout",
     "output_type": "stream",
     "text": [
      "[{'content_id': 219, 'activity': 'Play', 'user_id': 27, 'datetime': '2023-04-02 14:17:05.454268'}, {'content_id': 114, 'activity': 'Dislike', 'user_id': 19, 'datetime': '2023-04-02 14:17:05.454314'}, {'content_id': 129, 'activity': 'Like', 'user_id': 8, 'datetime': '2023-04-02 14:17:05.454334'}, {'content_id': 245, 'activity': 'Like', 'user_id': 25, 'datetime': '2023-04-02 14:17:05.454350'}, {'content_id': 40, 'activity': 'Dislike', 'user_id': 31, 'datetime': '2023-04-02 14:17:05.454366'}, {'content_id': 302, 'activity': 'Dislike', 'user_id': 32, 'datetime': '2023-04-02 14:17:05.454382'}, {'content_id': 9, 'activity': 'Like', 'user_id': 18, 'datetime': '2023-04-02 14:17:05.454397'}, {'content_id': 125, 'activity': 'Play', 'user_id': 10, 'datetime': '2023-04-02 14:17:05.454414'}, {'content_id': 312, 'activity': 'Like', 'user_id': 22, 'datetime': '2023-04-02 14:17:05.454431'}, {'content_id': 204, 'activity': 'Play', 'user_id': 4, 'datetime': '2023-04-02 14:17:05.454447'}]\n"
     ]
    }
   ],
   "source": [
    "print(my_list)"
   ],
   "metadata": {
    "collapsed": false,
    "pycharm": {
     "name": "#%%\n"
    }
   }
  },
  {
   "cell_type": "code",
   "execution_count": 20,
   "outputs": [],
   "source": [
    "#shows\n",
    "\n",
    "new = []\n",
    "\n",
    "for i in range(500):\n",
    "    # Assign random values for user_id and activity\n",
    "    user_id = random.randint(0, 4)\n",
    "    activity = random.choices(list(activities.keys()), list(activities.values()))[0]\n",
    "    content_id = random.randint(full_shows.id.iloc[0], full_shows.id.iloc[-1]+1)\n",
    "\n",
    "    # Create a dictionary with fixed values for content_id and datetime\n",
    "    my_dict = {\n",
    "        \"content_id\": content_id,\n",
    "        \"activity\": activity,\n",
    "        \"user_id\": user_id,\n",
    "        \"datetime\": datetime.now().strftime(\"%Y-%m-%d %H:%M:%S.%f\")\n",
    "    }\n",
    "\n",
    "    # Add the dictionary to the list\n",
    "    new.append(my_dict)\n",
    "\n",
    "# Save the list to a JSON file   \n",
    "# with open(directory_path + \"show_activities.json\", \"w\") as f:\n",
    "#     json.dump(new, f)\n",
    "\n",
    "with open(directory_path+'activities.json', 'r') as f:\n",
    "  data = json.load(f)\n",
    "  data.extend(new)\n",
    "with open(directory_path + 'activities.json', 'w') as f:\n",
    "  json.dump(data, f, indent=4)"
   ],
   "metadata": {
    "collapsed": false,
    "pycharm": {
     "name": "#%%\n"
    }
   }
  },
  {
   "cell_type": "code",
   "execution_count": null,
   "outputs": [],
   "source": [],
   "metadata": {
    "collapsed": false,
    "pycharm": {
     "name": "#%%\n"
    }
   }
  }
 ],
 "metadata": {
  "kernelspec": {
   "display_name": "Python 3",
   "language": "python",
   "name": "python3"
  },
  "language_info": {
   "codemirror_mode": {
    "name": "ipython",
    "version": 3
   },
   "file_extension": ".py",
   "mimetype": "text/x-python",
   "name": "python",
   "nbconvert_exporter": "python",
   "pygments_lexer": "ipython3",
   "version": "3.8.5"
  }
 },
 "nbformat": 4,
 "nbformat_minor": 1
}
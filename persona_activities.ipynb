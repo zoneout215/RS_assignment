{
  "nbformat": 4,
  "nbformat_minor": 0,
  "metadata": {
    "colab": {
      "provenance": [],
      "authorship_tag": "ABX9TyMhBnGO0dMfSwl0Cu6pnMyn"
    },
    "kernelspec": {
      "name": "python3",
      "display_name": "Python 3"
    },
    "language_info": {
      "name": "python"
    }
  },
  "cells": [
    {
      "cell_type": "markdown",
      "source": [
        "## Simulate user activity based on personas:"
      ],
      "metadata": {
        "id": "RP7gY6qA7htv"
      }
    },
    {
      "cell_type": "code",
      "source": [
        "import pandas as pd\n",
        "import random\n",
        "from datetime import datetime\n",
        "import json\n",
        "import itertools\n",
        "import numpy as np"
      ],
      "metadata": {
        "id": "lFaZdf9gOfPA"
      },
      "execution_count": 1,
      "outputs": []
    },
    {
      "cell_type": "code",
      "source": [
        "df = pd.read_csv('/content/full_data.csv')\n",
        "activities = {\"Like\": 0.4, \"Dislike\": 0.2, \"Play\": 0.4}"
      ],
      "metadata": {
        "id": "oEh88ntgOgLM"
      },
      "execution_count": 2,
      "outputs": []
    },
    {
      "cell_type": "code",
      "source": [
        "# create simulated activity for every persona \n",
        "# the amount of simulated activities is currently 1000\n",
        "# input is an array of user ids and a list of content categories for the corresponding persona\n",
        "# the output is a list of activities for the users in this persona\n",
        "\n",
        "def persona_activities(user_ids, persona_categories):\n",
        "  categories = list(persona_categories)\n",
        "  df_persona = df[df['category'].isin(categories)]\n",
        "  content_ids = df_persona['id'].unique()\n",
        "  my_list = []\n",
        "  for i in range(1000):\n",
        "    # Assign random values for user_id and activity\n",
        "    user_id = random.choices(list(user_ids))\n",
        "    #activity = random.choice(activities)\n",
        "    activity = random.choices(list(activities.keys()), list(activities.values()))[0]\n",
        "    content_id = random.choices(list(content_ids))\n",
        "\n",
        "    # Create a dictionary with fixed values for content_id and datetime\n",
        "    my_dict = {\n",
        "        \"content_id\": content_id,\n",
        "        \"activity\": activity,\n",
        "        \"user_id\": user_id,\n",
        "        \"datetime\": datetime.now().strftime(\"%Y-%m-%d %H:%M:%S.%f\")\n",
        "    }\n",
        "    # Add the dictionary to the list\n",
        "    my_list.append(my_dict)   \n",
        "  return my_list "
      ],
      "metadata": {
        "id": "pgi-PRVVAKCp"
      },
      "execution_count": 3,
      "outputs": []
    },
    {
      "cell_type": "code",
      "source": [
        "test_user_ids = np.arange(30, 60, 1)\n",
        "categor = ['Family','Kids','Documentary']\n",
        "fam_persona_act = persona_activities(test_user_ids, categor)\n",
        "\n",
        "# we can create new activities based on the persona_activities function "
      ],
      "metadata": {
        "id": "7F4AafSNMS8u"
      },
      "execution_count": 4,
      "outputs": []
    },
    {
      "cell_type": "code",
      "source": [
        "fam_persona_act"
      ],
      "metadata": {
        "id": "pTBODwShPCiq"
      },
      "execution_count": null,
      "outputs": []
    }
  ]
}
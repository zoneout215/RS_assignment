{
 "nbformat": 4,
 "nbformat_minor": 0,
 "metadata": {
  "colab": {
   "provenance": [],
   "authorship_tag": "ABX9TyMhBnGO0dMfSwl0Cu6pnMyn"
  },
  "kernelspec": {
   "name": "python3",
   "display_name": "Python 3"
  },
  "language_info": {
   "name": "python"
  }
 },
 "cells": [
  {
   "cell_type": "markdown",
   "source": [
    "## Simulate user activity based on personas:"
   ],
   "metadata": {
    "id": "RP7gY6qA7htv",
    "pycharm": {
     "name": "#%% md\n"
    }
   }
  },
  {
   "cell_type": "code",
   "source": [
    "import pandas as pd\n",
    "import random\n",
    "from datetime import datetime\n",
    "import json\n",
    "import itertools\n",
    "import numpy as np"
   ],
   "metadata": {
    "id": "lFaZdf9gOfPA",
    "pycharm": {
     "name": "#%%\n"
    }
   },
   "execution_count": 11,
   "outputs": []
  },
  {
   "cell_type": "code",
   "source": [
    "df = pd.read_pickle('./data/full_data.pkl')\n",
    "activities = {\"Like\": 0.4, \"Dislike\": 0.2, \"Play\": 0.4}\n",
    "df.groupby('category').count() #we don't have comedies in our dataset?"
   ],
   "metadata": {
    "id": "oEh88ntgOgLM",
    "pycharm": {
     "name": "#%%\n"
    }
   },
   "execution_count": 27,
   "outputs": [
    {
     "data": {
      "text/plain": "                    id  title  series  episode_name  description  \\\ncategory                                                           \nArts               911    911     841           911          911   \nDocumentary       1122   1122    1022          1122         1122   \nDrama             1174   1174    1039          1174         1174   \nEducation         2528   2528    2501          2528         2528   \nFamily            2055   2055    2009          2055         2055   \nKids              4298   4298    4267          4298         4298   \nMovies             143    143       0           143          143   \nNews              1167   1167    1135          1167         1167   \nPanel Discussion   475    475     465           475          475   \n\n                  description2  tags  image  directors_actors  tags2  \\\ncategory                                                               \nArts                       911   911    911               911    911   \nDocumentary               1122  1122   1122              1122   1122   \nDrama                     1174  1174   1174              1174   1174   \nEducation                 2528  2528   2528              2528   2528   \nFamily                    2055  2055   2055              2055   2055   \nKids                      4298  4298   4298              4298   4298   \nMovies                     143   143    143               143    143   \nNews                      1167  1167   1167              1167   1167   \nPanel Discussion           475   475    475               475    475   \n\n                  publication_date  rating  duration_sec  season  episode  \\\ncategory                                                                    \nArts                           911     751           911     595      911   \nDocumentary                   1122     950          1122     823     1122   \nDrama                         1174    1171          1174    1011     1174   \nEducation                     2528    2374          2528    1463     2528   \nFamily                        2055    1984          2055    1459     2055   \nKids                          4298    4272          4298     108     4298   \nMovies                         143     143           143       0      143   \nNews                          1167      50          1167     401     1167   \nPanel Discussion               475     251           475     302      475   \n\n                  episode_title  \ncategory                         \nArts                        911  \nDocumentary                1122  \nDrama                      1174  \nEducation                  2528  \nFamily                     2055  \nKids                       4298  \nMovies                      143  \nNews                       1167  \nPanel Discussion            475  ",
      "text/html": "<div>\n<style scoped>\n    .dataframe tbody tr th:only-of-type {\n        vertical-align: middle;\n    }\n\n    .dataframe tbody tr th {\n        vertical-align: top;\n    }\n\n    .dataframe thead th {\n        text-align: right;\n    }\n</style>\n<table border=\"1\" class=\"dataframe\">\n  <thead>\n    <tr style=\"text-align: right;\">\n      <th></th>\n      <th>id</th>\n      <th>title</th>\n      <th>series</th>\n      <th>episode_name</th>\n      <th>description</th>\n      <th>description2</th>\n      <th>tags</th>\n      <th>image</th>\n      <th>directors_actors</th>\n      <th>tags2</th>\n      <th>publication_date</th>\n      <th>rating</th>\n      <th>duration_sec</th>\n      <th>season</th>\n      <th>episode</th>\n      <th>episode_title</th>\n    </tr>\n    <tr>\n      <th>category</th>\n      <th></th>\n      <th></th>\n      <th></th>\n      <th></th>\n      <th></th>\n      <th></th>\n      <th></th>\n      <th></th>\n      <th></th>\n      <th></th>\n      <th></th>\n      <th></th>\n      <th></th>\n      <th></th>\n      <th></th>\n      <th></th>\n    </tr>\n  </thead>\n  <tbody>\n    <tr>\n      <th>Arts</th>\n      <td>911</td>\n      <td>911</td>\n      <td>841</td>\n      <td>911</td>\n      <td>911</td>\n      <td>911</td>\n      <td>911</td>\n      <td>911</td>\n      <td>911</td>\n      <td>911</td>\n      <td>911</td>\n      <td>751</td>\n      <td>911</td>\n      <td>595</td>\n      <td>911</td>\n      <td>911</td>\n    </tr>\n    <tr>\n      <th>Documentary</th>\n      <td>1122</td>\n      <td>1122</td>\n      <td>1022</td>\n      <td>1122</td>\n      <td>1122</td>\n      <td>1122</td>\n      <td>1122</td>\n      <td>1122</td>\n      <td>1122</td>\n      <td>1122</td>\n      <td>1122</td>\n      <td>950</td>\n      <td>1122</td>\n      <td>823</td>\n      <td>1122</td>\n      <td>1122</td>\n    </tr>\n    <tr>\n      <th>Drama</th>\n      <td>1174</td>\n      <td>1174</td>\n      <td>1039</td>\n      <td>1174</td>\n      <td>1174</td>\n      <td>1174</td>\n      <td>1174</td>\n      <td>1174</td>\n      <td>1174</td>\n      <td>1174</td>\n      <td>1174</td>\n      <td>1171</td>\n      <td>1174</td>\n      <td>1011</td>\n      <td>1174</td>\n      <td>1174</td>\n    </tr>\n    <tr>\n      <th>Education</th>\n      <td>2528</td>\n      <td>2528</td>\n      <td>2501</td>\n      <td>2528</td>\n      <td>2528</td>\n      <td>2528</td>\n      <td>2528</td>\n      <td>2528</td>\n      <td>2528</td>\n      <td>2528</td>\n      <td>2528</td>\n      <td>2374</td>\n      <td>2528</td>\n      <td>1463</td>\n      <td>2528</td>\n      <td>2528</td>\n    </tr>\n    <tr>\n      <th>Family</th>\n      <td>2055</td>\n      <td>2055</td>\n      <td>2009</td>\n      <td>2055</td>\n      <td>2055</td>\n      <td>2055</td>\n      <td>2055</td>\n      <td>2055</td>\n      <td>2055</td>\n      <td>2055</td>\n      <td>2055</td>\n      <td>1984</td>\n      <td>2055</td>\n      <td>1459</td>\n      <td>2055</td>\n      <td>2055</td>\n    </tr>\n    <tr>\n      <th>Kids</th>\n      <td>4298</td>\n      <td>4298</td>\n      <td>4267</td>\n      <td>4298</td>\n      <td>4298</td>\n      <td>4298</td>\n      <td>4298</td>\n      <td>4298</td>\n      <td>4298</td>\n      <td>4298</td>\n      <td>4298</td>\n      <td>4272</td>\n      <td>4298</td>\n      <td>108</td>\n      <td>4298</td>\n      <td>4298</td>\n    </tr>\n    <tr>\n      <th>Movies</th>\n      <td>143</td>\n      <td>143</td>\n      <td>0</td>\n      <td>143</td>\n      <td>143</td>\n      <td>143</td>\n      <td>143</td>\n      <td>143</td>\n      <td>143</td>\n      <td>143</td>\n      <td>143</td>\n      <td>143</td>\n      <td>143</td>\n      <td>0</td>\n      <td>143</td>\n      <td>143</td>\n    </tr>\n    <tr>\n      <th>News</th>\n      <td>1167</td>\n      <td>1167</td>\n      <td>1135</td>\n      <td>1167</td>\n      <td>1167</td>\n      <td>1167</td>\n      <td>1167</td>\n      <td>1167</td>\n      <td>1167</td>\n      <td>1167</td>\n      <td>1167</td>\n      <td>50</td>\n      <td>1167</td>\n      <td>401</td>\n      <td>1167</td>\n      <td>1167</td>\n    </tr>\n    <tr>\n      <th>Panel Discussion</th>\n      <td>475</td>\n      <td>475</td>\n      <td>465</td>\n      <td>475</td>\n      <td>475</td>\n      <td>475</td>\n      <td>475</td>\n      <td>475</td>\n      <td>475</td>\n      <td>475</td>\n      <td>475</td>\n      <td>251</td>\n      <td>475</td>\n      <td>302</td>\n      <td>475</td>\n      <td>475</td>\n    </tr>\n  </tbody>\n</table>\n</div>"
     },
     "execution_count": 27,
     "metadata": {},
     "output_type": "execute_result"
    }
   ]
  },
  {
   "cell_type": "code",
   "source": [
    "# create simulated activity for every persona \n",
    "# the amount of simulated activities is currently 1000\n",
    "# input is an array of user ids and a list of content categories for the corresponding persona\n",
    "# the output is a list of activities for the users in this persona\n",
    "\n",
    "def persona_activities(user_ids, persona_categories):\n",
    "  categories = list(persona_categories)\n",
    "  df_persona = df[df['category'].isin(categories)]\n",
    "  content_ids = df_persona['id'].unique()\n",
    "  my_list = []\n",
    "  for i in range(600):\n",
    "    # Assign random values for user_id and activity\n",
    "    user_id = random.choices(list(user_ids))\n",
    "    #activity = random.choice(activities)\n",
    "    activity = random.choices(list(activities.keys()), list(activities.values()))[0]\n",
    "    content_id = random.choices(list(content_ids))\n",
    "\n",
    "    # Create a dictionary with fixed values for content_id and datetime\n",
    "    my_dict = {\n",
    "        \"content_id\": content_id,\n",
    "        \"activity\": activity,\n",
    "        \"user_id\": user_id,\n",
    "        \"datetime\": datetime.now().strftime(\"%Y-%m-%d %H:%M:%S.%f\")\n",
    "    }\n",
    "    # Add the dictionary to the list\n",
    "    my_list.append(my_dict)   \n",
    "  return my_list "
   ],
   "metadata": {
    "id": "pgi-PRVVAKCp",
    "pycharm": {
     "name": "#%%\n"
    }
   },
   "execution_count": 24,
   "outputs": []
  },
  {
   "cell_type": "code",
   "source": [
    "test_3040 = np.arange(30, 40, 1)\n",
    "category = ['Family','Kids','Documentary']\n",
    "persona_activity = persona_activities(test_3040, category)"
   ],
   "metadata": {
    "id": "7F4AafSNMS8u",
    "pycharm": {
     "name": "#%%\n"
    }
   },
   "execution_count": 28,
   "outputs": []
  },
  {
   "cell_type": "code",
   "execution_count": 29,
   "outputs": [],
   "source": [
    "test_4151 = np.arange(41, 51, 1)\n",
    "category = ['News','Panel Discussion']\n",
    "news_persona_act = persona_activities(test_4151, category)"
   ],
   "metadata": {
    "collapsed": false,
    "pycharm": {
     "name": "#%%\n"
    }
   }
  },
  {
   "cell_type": "code",
   "execution_count": 31,
   "outputs": [],
   "source": [
    "test_5263 = np.arange(52, 63, 1)\n",
    "category = ['Family','Panel Discussion']\n",
    "family_news_persona = persona_activities(test_5263, category)"
   ],
   "metadata": {
    "collapsed": false,
    "pycharm": {
     "name": "#%%\n"
    }
   }
  },
  {
   "cell_type": "code",
   "execution_count": 32,
   "outputs": [],
   "source": [
    "#add news_persona_act and family_news_persona to persona_activity\n",
    "persona_activity.extend(news_persona_act)\n",
    "persona_activity.extend(family_news_persona)"
   ],
   "metadata": {
    "collapsed": false,
    "pycharm": {
     "name": "#%%#add news_persona_act and family_news_persona to persona_activity#add news_persona_act and family_news_persona to persona_activity\n"
    }
   }
  },
  {
   "cell_type": "code",
   "execution_count": 34,
   "outputs": [
    {
     "data": {
      "text/plain": "1800"
     },
     "execution_count": 34,
     "metadata": {},
     "output_type": "execute_result"
    }
   ],
   "source": [
    "len(persona_activity)"
   ],
   "metadata": {
    "collapsed": false,
    "pycharm": {
     "name": "#%%\n"
    }
   }
  },
  {
   "cell_type": "code",
   "execution_count": null,
   "outputs": [],
   "source": [
    "#add persona_activity to the file movie_activity.json ? make 1 file with all activities?\n",
    "with open('./data/activities.json', 'r') as f:\n",
    "  data = json.load(f)\n",
    "  data.extend(persona_activity)"
   ],
   "metadata": {
    "collapsed": false,
    "pycharm": {
     "name": "#%%\n"
    }
   }
  }
 ]
}
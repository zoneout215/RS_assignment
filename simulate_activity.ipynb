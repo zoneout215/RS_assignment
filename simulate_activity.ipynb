{
 "cells": [
  {
   "cell_type": "code",
   "execution_count": 1,
   "metadata": {
    "collapsed": false,
    "pycharm": {
     "name": "#%%\n"
    }
   },
   "outputs": [],
   "source": [
    "import random\n",
    "from datetime import datetime\n",
    "import json\n",
    "\n",
    "# Define the list of possible activities\n",
    "#activities = [\"Like\", \"Dislike\", \"Play\", \"Like\", \"Play\"]\n",
    "activities = {\"Like\": 0.4, \"Dislike\": 0.2, \"Play\": 0.4}\n",
    "\n",
    "# Create a list of dictionaries\n",
    "my_list = []\n",
    "for i in range(1000):\n",
    "    # Assign random values for user_id and activity\n",
    "    user_id = random.randint(1, 5)\n",
    "    #activity = random.choice(activities)\n",
    "    activity = random.choices(list(activities.keys()), list(activities.values()))[0]\n",
    "    content_id = random.randint(0, 3000)\n",
    "\n",
    "    # Create a dictionary with fixed values for content_id and datetime\n",
    "    my_dict = {\n",
    "        \"content_id\": content_id,\n",
    "        \"activity\": activity,\n",
    "        \"user_id\": user_id,\n",
    "        \"datetime\": datetime.now().strftime(\"%Y-%m-%d %H:%M:%S.%f\")\n",
    "    }\n",
    "\n",
    "    # Add the dictionary to the list\n",
    "    my_list.append(my_dict)\n",
    "with open(\"movie_activities.json\", \"w\") as f:\n",
    "    json.dump(my_list, f,  indent=4)\n"
   ]
  },
  {
   "cell_type": "code",
   "execution_count": 2,
   "metadata": {
    "collapsed": false,
    "pycharm": {
     "name": "#%%\n"
    }
   },
   "outputs": [],
   "source": [
    "new = []\n",
    "for i in range(1500):\n",
    "    # Assign random values for user_id and activity\n",
    "    user_id = random.randint(1, 5)\n",
    "    #activity = random.choice(activities)\n",
    "    activity = random.choices(list(activities.keys()), list(activities.values()))[0]\n",
    "    content_id = random.randint(11000, 13000)\n",
    "\n",
    "    # Create a dictionary with fixed values for content_id and datetime\n",
    "    my_dict = {\n",
    "        \"content_id\": content_id,\n",
    "        \"activity\": activity,\n",
    "        \"user_id\": user_id,\n",
    "        \"datetime\": datetime.now().strftime(\"%Y-%m-%d %H:%M:%S.%f\")\n",
    "    }\n",
    "\n",
    "    # Add the dictionary to the list\n",
    "    new.append(my_dict)\n",
    "# Save the list to a JSON file\n",
    "with open(\"show_activities.json\", \"w\") as f:\n",
    "    json.dump(new, f,  indent=4)"
   ]
  }
 ],
 "metadata": {
  "kernelspec": {
   "display_name": "Python 3",
   "language": "python",
   "name": "python3"
  },
  "language_info": {
   "codemirror_mode": {
    "name": "ipython",
    "version": 2
   },
   "file_extension": ".py",
   "mimetype": "text/x-python",
   "name": "python",
   "nbconvert_exporter": "python",
   "pygments_lexer": "ipython2",
   "version": "2.7.6"
  }
 },
 "nbformat": 4,
 "nbformat_minor": 0
}

{
 "cells": [
  {
   "cell_type": "code",
   "execution_count": 2,
   "outputs": [
    {
     "name": "stdout",
     "output_type": "stream",
     "text": [
      "[{'content_id': 630, 'activity': 'Dislike', 'user_id': 1, 'datetime': '2023-03-18 22:21:26.386749'}, {'content_id': 933, 'activity': 'Dislike', 'user_id': 5, 'datetime': '2023-03-18 22:21:26.386797'}, {'content_id': 482, 'activity': 'Play', 'user_id': 5, 'datetime': '2023-03-18 22:21:26.386817'}, {'content_id': 115, 'activity': 'Dislike', 'user_id': 2, 'datetime': '2023-03-18 22:21:26.386835'}, {'content_id': 140, 'activity': 'Dislike', 'user_id': 4, 'datetime': '2023-03-18 22:21:26.386851'}, {'content_id': 846, 'activity': 'Select Season', 'user_id': 4, 'datetime': '2023-03-18 22:21:26.386869'}, {'content_id': 163, 'activity': 'Select Season', 'user_id': 3, 'datetime': '2023-03-18 22:21:26.386886'}, {'content_id': 155, 'activity': 'Play', 'user_id': 3, 'datetime': '2023-03-18 22:21:26.386902'}, {'content_id': 464, 'activity': 'Play', 'user_id': 4, 'datetime': '2023-03-18 22:21:26.386919'}, {'content_id': 409, 'activity': 'Dislike', 'user_id': 5, 'datetime': '2023-03-18 22:21:26.386937'}]\n"
     ]
    }
   ],
   "source": [
    "import random\n",
    "from datetime import datetime\n",
    "import json\n",
    "\n",
    "# Define the list of possible activities\n",
    "activities = [\"Like\", \"Dislike\", \"Select Season\", \"Play\"]\n",
    "\n",
    "# Create a list of dictionaries\n",
    "my_list = []\n",
    "for i in range(10):\n",
    "    # Assign random values for user_id and activity\n",
    "    user_id = random.randint(1, 5)\n",
    "    activity = random.choice(activities)\n",
    "    content_id = random.randint(1, 1000)\n",
    "\n",
    "    # Create a dictionary with fixed values for content_id and datetime\n",
    "    my_dict = {\n",
    "        \"content_id\": content_id,\n",
    "        \"activity\": activity,\n",
    "        \"user_id\": user_id,\n",
    "        \"datetime\": datetime.now().strftime(\"%Y-%m-%d %H:%M:%S.%f\")\n",
    "    }\n",
    "\n",
    "    # Add the dictionary to the list\n",
    "    my_list.append(my_dict)\n",
    "# Save the list to a JSON file\n",
    "with open(\"activities.json\", \"w\") as f:\n",
    "    json.dump(my_list, f)\n",
    "# Print the resulting list of dictionaries\n",
    "print(my_list)"
   ],
   "metadata": {
    "collapsed": false,
    "pycharm": {
     "name": "#%%\n"
    }
   }
  },
  {
   "cell_type": "code",
   "execution_count": 3,
   "outputs": [
    {
     "name": "stdout",
     "output_type": "stream",
     "text": [
      "   content_id       activity  user_id                   datetime\n",
      "0         630        Dislike        1 2023-03-18 22:21:26.386749\n",
      "1         933        Dislike        5 2023-03-18 22:21:26.386797\n",
      "2         482           Play        5 2023-03-18 22:21:26.386817\n",
      "3         115        Dislike        2 2023-03-18 22:21:26.386835\n",
      "4         140        Dislike        4 2023-03-18 22:21:26.386851\n",
      "5         846  Select Season        4 2023-03-18 22:21:26.386869\n",
      "6         163  Select Season        3 2023-03-18 22:21:26.386886\n",
      "7         155           Play        3 2023-03-18 22:21:26.386902\n",
      "8         464           Play        4 2023-03-18 22:21:26.386919\n",
      "9         409        Dislike        5 2023-03-18 22:21:26.386937\n"
     ]
    }
   ],
   "source": [
    "import pandas as pd\n",
    "\n",
    "# Read the JSON file into a DataFrame\n",
    "activities = pd.read_json(\"activities.json\")\n",
    "\n",
    "# Print the DataFrame\n",
    "print(activities)"
   ],
   "metadata": {
    "collapsed": false,
    "pycharm": {
     "name": "#%%\n"
    }
   }
  },
  {
   "cell_type": "code",
   "execution_count": null,
   "outputs": [],
   "source": [],
   "metadata": {
    "collapsed": false,
    "pycharm": {
     "name": "#%%\n"
    }
   }
  }
 ],
 "metadata": {
  "kernelspec": {
   "display_name": "Python 3",
   "language": "python",
   "name": "python3"
  },
  "language_info": {
   "codemirror_mode": {
    "name": "ipython",
    "version": 2
   },
   "file_extension": ".py",
   "mimetype": "text/x-python",
   "name": "python",
   "nbconvert_exporter": "python",
   "pygments_lexer": "ipython2",
   "version": "2.7.6"
  }
 },
 "nbformat": 4,
 "nbformat_minor": 0
}
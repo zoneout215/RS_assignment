{
 "cells": [
  {
   "cell_type": "code",
   "execution_count": 33,
   "outputs": [],
   "source": [
    "import pandas as pd\n",
    "import numpy as np\n",
    "from sklearn.feature_extraction.text import TfidfVectorizer\n",
    "from sklearn.cluster import KMeans\n",
    "#from sklearn import cluster\n",
    "from kneed import KneeLocator"
   ],
   "metadata": {
    "collapsed": false,
    "pycharm": {
     "name": "#%%\n"
    }
   }
  },
  {
   "cell_type": "code",
   "execution_count": 34,
   "outputs": [],
   "source": [
    "#read the pkl file\n",
    "df = pd.read_pickle('./ABC/full_movies.pkl')\n",
    "expat_library= df[df['tags2'].str.contains('Australia|australia|australian|Australian') | df['description'].str.contains('Australia|australia|australian|Australian') | df['description2'].str.contains('Australia|australia|australian|Australian') | df['title'].str.contains('Australia|australia|australian|Australian')\n",
    "]"
   ],
   "metadata": {
    "collapsed": false,
    "pycharm": {
     "name": "#%%\n"
    }
   }
  },
  {
   "cell_type": "code",
   "execution_count": 35,
   "outputs": [
    {
     "data": {
      "text/plain": "(409, 17)"
     },
     "execution_count": 35,
     "metadata": {},
     "output_type": "execute_result"
    }
   ],
   "source": [
    "df.shape"
   ],
   "metadata": {
    "collapsed": false,
    "pycharm": {
     "name": "#%%\n"
    }
   }
  },
  {
   "cell_type": "code",
   "execution_count": 36,
   "outputs": [],
   "source": [
    "#read json file activity\n",
    "activity = pd.read_json('./activities.json')"
   ],
   "metadata": {
    "collapsed": false,
    "pycharm": {
     "name": "#%%\n"
    }
   }
  },
  {
   "cell_type": "code",
   "execution_count": 43,
   "outputs": [
    {
     "data": {
      "text/plain": "         content_id  activity  datetime\nuser_id                                \n1               100       100       100\n2               108       108       108\n3               101       101       101\n4                83        83        83\n5               108       108       108",
      "text/html": "<div>\n<style scoped>\n    .dataframe tbody tr th:only-of-type {\n        vertical-align: middle;\n    }\n\n    .dataframe tbody tr th {\n        vertical-align: top;\n    }\n\n    .dataframe thead th {\n        text-align: right;\n    }\n</style>\n<table border=\"1\" class=\"dataframe\">\n  <thead>\n    <tr style=\"text-align: right;\">\n      <th></th>\n      <th>content_id</th>\n      <th>activity</th>\n      <th>datetime</th>\n    </tr>\n    <tr>\n      <th>user_id</th>\n      <th></th>\n      <th></th>\n      <th></th>\n    </tr>\n  </thead>\n  <tbody>\n    <tr>\n      <th>1</th>\n      <td>100</td>\n      <td>100</td>\n      <td>100</td>\n    </tr>\n    <tr>\n      <th>2</th>\n      <td>108</td>\n      <td>108</td>\n      <td>108</td>\n    </tr>\n    <tr>\n      <th>3</th>\n      <td>101</td>\n      <td>101</td>\n      <td>101</td>\n    </tr>\n    <tr>\n      <th>4</th>\n      <td>83</td>\n      <td>83</td>\n      <td>83</td>\n    </tr>\n    <tr>\n      <th>5</th>\n      <td>108</td>\n      <td>108</td>\n      <td>108</td>\n    </tr>\n  </tbody>\n</table>\n</div>"
     },
     "execution_count": 43,
     "metadata": {},
     "output_type": "execute_result"
    }
   ],
   "source": [
    "activity.head()\n",
    "activity.groupby('user_id').count()"
   ],
   "metadata": {
    "collapsed": false,
    "pycharm": {
     "name": "#%%\n"
    }
   }
  },
  {
   "cell_type": "markdown",
   "source": [],
   "metadata": {
    "collapsed": false,
    "pycharm": {
     "name": "#%% md\n"
    }
   }
  },
  {
   "cell_type": "markdown",
   "source": [
    "## TF-IDF + kmeans clustering"
   ],
   "metadata": {
    "collapsed": false,
    "pycharm": {
     "name": "#%% md\n"
    }
   }
  },
  {
   "cell_type": "code",
   "execution_count": 38,
   "outputs": [
    {
     "name": "stdout",
     "output_type": "stream",
     "text": [
      "13\n"
     ]
    }
   ],
   "source": [
    "#tf-idf and kmeans for all movies\n",
    "# Convert the text data to a matrix of TF-IDF features\n",
    "tfidf_vectorizer = TfidfVectorizer(stop_words='english')\n",
    "tfidf = tfidf_vectorizer.fit_transform(df['description'])\n",
    "\n",
    "\n",
    "inertia = []\n",
    "#calculate the optimal number of clusters\n",
    "K = range(1, 20)\n",
    "for k in K:\n",
    "    kmeanModel = KMeans(n_clusters=k,random_state=0)\n",
    "    kmeanModel.fit(tfidf)\n",
    "    inertia.append(kmeanModel.inertia_)\n",
    "\n",
    "\n",
    "kn = KneeLocator(K, inertia, curve='convex', direction='decreasing')\n",
    "print(kn.knee)\n"
   ],
   "metadata": {
    "collapsed": false,
    "pycharm": {
     "name": "#%%\n"
    }
   }
  },
  {
   "cell_type": "code",
   "execution_count": 39,
   "outputs": [],
   "source": [
    "# Cluster the documents using KMeans\n",
    "num_clusters = 13\n",
    "km = KMeans(n_clusters=num_clusters)\n",
    "km.fit(tfidf)\n",
    "\n",
    "# Assign cluster labels to each document\n",
    "clusters = km.labels_.tolist()\n",
    "df['cluster'] = clusters"
   ],
   "metadata": {
    "collapsed": false,
    "pycharm": {
     "name": "#%%\n"
    }
   }
  },
  {
   "cell_type": "code",
   "execution_count": 40,
   "outputs": [
    {
     "name": "stdout",
     "output_type": "stream",
     "text": [
      "Cluster 0: young book julia based donaldson axel scheffler friendship animated 2009 world dragon children\n",
      "Cluster 1: artist portrait sarah narrated film intimate artistic new australian memories walks terence priscilla\n",
      "Cluster 2: story disability science people greatest international extraordinary australian geography filmed live attempt fashion\n",
      "Cluster 3: time beach stranded summer school lost cadets neville recalls deserted kangaroo gave flashback\n",
      "Cluster 4: performed ballet music orchestra australian opera tale australia victoria love symphony costumes tells\n",
      "Cluster 5: home fielding spectacular strong culture paquita commonwealth forests female ancient vast queen cold\n",
      "Cluster 6: heart new christmas people adventure warming story celebrate year old jaydyn best love\n",
      "Cluster 7: family 2012 father man life stick love friends 2010 years couple pina forced\n",
      "Cluster 8: gospel music singer mark manchester semi lisser gorton monastery final talented 2021 hosts\n",
      "Cluster 9: journey girl working country contemporary australia class influential told life intimate oliver dance\n",
      "Cluster 10: david attenborough scenes making history look documentary natural sir process series monsters flying\n",
      "Cluster 11: world space ultimate takes metal stars anniversary everyday tour ancient culture special kathleen\n",
      "Cluster 12: seafood freshest welcome dumplings homemade markets salad colourful tossing tradition dragons starts fish\n"
     ]
    },
    {
     "name": "stderr",
     "output_type": "stream",
     "text": [
      "/Users/ekaterinamazur/anaconda3/lib/python3.9/site-packages/sklearn/utils/deprecation.py:87: FutureWarning: Function get_feature_names is deprecated; get_feature_names is deprecated in 1.0 and will be removed in 1.2. Please use get_feature_names_out instead.\n",
      "  warnings.warn(msg, category=FutureWarning)\n"
     ]
    }
   ],
   "source": [
    "# Print the top 10 terms for each cluster\n",
    "order_centroids = km.cluster_centers_.argsort()[:, ::-1]\n",
    "terms = tfidf_vectorizer.get_feature_names()\n",
    "for i in range(num_clusters):\n",
    "    print(\"Cluster %d:\" % i, end='')\n",
    "    for ind in order_centroids[i, :13]:\n",
    "        print(' %s' % terms[ind], end='')\n",
    "    print()\n",
    "\n"
   ],
   "metadata": {
    "collapsed": false,
    "pycharm": {
     "name": "#%%\n"
    }
   }
  },
  {
   "cell_type": "code",
   "execution_count": 41,
   "outputs": [
    {
     "data": {
      "text/plain": "(72, 22)"
     },
     "execution_count": 41,
     "metadata": {},
     "output_type": "execute_result"
    }
   ],
   "source": [
    "joined = pd.merge(df, activity, left_on='id', right_on='content_id', how='right')\n",
    "#make from list in tag2 column to string and delete [] in the string\n",
    "joined['tags2'] = joined['tags2'].apply(lambda x: str(x).replace('[', '').replace(']', ''))\n",
    "#drop NaN values in id column\n",
    "joined.dropna(subset=['id'], inplace=True)\n",
    "#check if tag2 column or description, description2, title columns consist of 'australia' or 'Australia'\n",
    "expat_data = joined[joined['tags2'].str.contains('Australia|australia|australian|Australian') | joined['description'].str.contains('Australia|australia|australian|Australian') | joined['description2'].str.contains('Australia|australia|australian|Australian') | joined['title'].str.contains('Australia|australia|australian|Australian')\n",
    "]\n",
    "#dataframe (movies) about Australia\n",
    "expat_data.shape"
   ],
   "metadata": {
    "collapsed": false,
    "pycharm": {
     "name": "#%%\n"
    }
   }
  },
  {
   "cell_type": "code",
   "execution_count": 49,
   "outputs": [],
   "source": [
    "#top-3 clusters for each user in joined dataframe\n",
    "top3 = joined.groupby('user_id')['cluster'].apply(lambda x: x.value_counts().nlargest(3).index.tolist()).reset_index(name='top3')\n",
    "\n"
   ],
   "metadata": {
    "collapsed": false,
    "pycharm": {
     "name": "#%%\n"
    }
   }
  },
  {
   "cell_type": "code",
   "execution_count": 50,
   "outputs": [
    {
     "data": {
      "text/plain": "   user_id              top3\n0        1   [6.0, 0.0, 2.0]\n1        2   [4.0, 0.0, 2.0]\n2        3  [7.0, 9.0, 10.0]\n3        4   [0.0, 9.0, 7.0]\n4        5   [0.0, 7.0, 6.0]",
      "text/html": "<div>\n<style scoped>\n    .dataframe tbody tr th:only-of-type {\n        vertical-align: middle;\n    }\n\n    .dataframe tbody tr th {\n        vertical-align: top;\n    }\n\n    .dataframe thead th {\n        text-align: right;\n    }\n</style>\n<table border=\"1\" class=\"dataframe\">\n  <thead>\n    <tr style=\"text-align: right;\">\n      <th></th>\n      <th>user_id</th>\n      <th>top3</th>\n    </tr>\n  </thead>\n  <tbody>\n    <tr>\n      <th>0</th>\n      <td>1</td>\n      <td>[6.0, 0.0, 2.0]</td>\n    </tr>\n    <tr>\n      <th>1</th>\n      <td>2</td>\n      <td>[4.0, 0.0, 2.0]</td>\n    </tr>\n    <tr>\n      <th>2</th>\n      <td>3</td>\n      <td>[7.0, 9.0, 10.0]</td>\n    </tr>\n    <tr>\n      <th>3</th>\n      <td>4</td>\n      <td>[0.0, 9.0, 7.0]</td>\n    </tr>\n    <tr>\n      <th>4</th>\n      <td>5</td>\n      <td>[0.0, 7.0, 6.0]</td>\n    </tr>\n  </tbody>\n</table>\n</div>"
     },
     "execution_count": 50,
     "metadata": {},
     "output_type": "execute_result"
    }
   ],
   "source": [
    "top3"
   ],
   "metadata": {
    "collapsed": false,
    "pycharm": {
     "name": "#%%\n"
    }
   }
  },
  {
   "cell_type": "code",
   "execution_count": null,
   "outputs": [],
   "source": [
    "#suggest movies for each user from top-3 clusters"
   ],
   "metadata": {
    "collapsed": false,
    "pycharm": {
     "name": "#%%\n"
    }
   }
  },
  {
   "cell_type": "code",
   "execution_count": null,
   "outputs": [],
   "source": [],
   "metadata": {
    "collapsed": false,
    "pycharm": {
     "name": "#%%\n"
    }
   }
  }
 ],
 "metadata": {
  "kernelspec": {
   "display_name": "Python 3",
   "language": "python",
   "name": "python3"
  },
  "language_info": {
   "codemirror_mode": {
    "name": "ipython",
    "version": 2
   },
   "file_extension": ".py",
   "mimetype": "text/x-python",
   "name": "python",
   "nbconvert_exporter": "python",
   "pygments_lexer": "ipython2",
   "version": "2.7.6"
  }
 },
 "nbformat": 4,
 "nbformat_minor": 0
}
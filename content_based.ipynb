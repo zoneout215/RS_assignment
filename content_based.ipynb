{
 "cells": [
  {
   "cell_type": "code",
   "execution_count": 107,
   "outputs": [],
   "source": [
    "import pandas as pd\n",
    "import numpy as np"
   ],
   "metadata": {
    "collapsed": false,
    "pycharm": {
     "name": "#%%\n"
    }
   }
  },
  {
   "cell_type": "code",
   "execution_count": 108,
   "outputs": [],
   "source": [
    "#read the pkl file\n",
    "df = pd.read_pickle('./ABC/full_movies.pkl')\n",
    "expat_library= df[df['tags2'].str.contains('Australia|australia|australian|Australian') | df['description'].str.contains('Australia|australia|australian|Australian') | df['description2'].str.contains('Australia|australia|australian|Australian') | df['title'].str.contains('Australia|australia|australian|Australian')\n",
    "]"
   ],
   "metadata": {
    "collapsed": false,
    "pycharm": {
     "name": "#%%\n"
    }
   }
  },
  {
   "cell_type": "code",
   "execution_count": 109,
   "outputs": [
    {
     "data": {
      "text/plain": "      id category                                      title series  \\\n11    11   Family                                 Ballet Now    NaN   \n35    35   Family                                        Zog    NaN   \n111  111   Family  Armadillo: Narrated By David Attenborough    NaN   \n137  137   Family                                  Stick Man    NaN   \n158  158   Family                    The Snail And The Whale    NaN   \n\n                                  episode_name  \\\n11                                  Ballet Now   \n35                                         Zog   \n111  Armadillo: Narrated By David Attenborough   \n137                                  Stick Man   \n158                    The Snail And The Whale   \n\n                                           description  \\\n11   This film captures the creative process behind...   \n35   Based on the picture book by Julia Donaldson, ...   \n111  In the heart of Brazil lives an animal so elus...   \n137  Stick Man lives in the family tree with his St...   \n158  A beautiful tale of an unlikely friendship, a ...   \n\n                                          description2  \\\n11   This film captures the creative process behind...   \n35   Based on the picture book by Julia Donaldson, ...   \n111  In the heart of Brazil lives an animal so elus...   \n137  Stick Man lives in the family tree with his St...   \n158  A beautiful tale of an unlikely friendship, a ...   \n\n                                                  tags  \\\n11   [ABC TV Plus, DOCUMENTARY, ARTS & CULTURE, FAM...   \n35                                  [ABC Kids, FAMILY]   \n111                      [ABC TV, DOCUMENTARY, FAMILY]   \n137                                 [ABC Kids, FAMILY]   \n158                         [ABC Kids, ABC ME, FAMILY]   \n\n                                                 image  \\\n11   https://cdn.iview.abc.net.au/thumbs/i/zw/ZW269...   \n35   https://cdn.iview.abc.net.au/thumbs/i/zw/ZW124...   \n111  https://cdn.iview.abc.net.au/thumbs/i/zw/ZW311...   \n137  https://cdn.iview.abc.net.au/thumbs/i/zw/ZW002...   \n158  https://cdn.iview.abc.net.au/thumbs/i/zw/ZW177...   \n\n                               directors_actors  \\\n11                                           []   \n35          [Director Max Lang, Daniel Snaddon]   \n111               [Host Sir David Attenborough]   \n137  [Director Jeroen Jaspaert, Daniel Snaddon]   \n158         [Director Max Lang, Daniel Snaddon]   \n\n                                                 tags2     publication_date  \\\n11   [abc2, docs, factual, arts, ballet, dance, cul...  2021-06-30 21:59:27   \n35   [abc4kids, 4feature, 4featured, abcme-shoulder...  2020-04-17 11:45:30   \n111  [abc1, uk, docs, factual, nature, wildlife, en...  2021-09-19 19:41:30   \n137  [abc4kids, family-viewing, 4xmas-features, abc...  2020-04-17 11:44:30   \n158  [abc4kids, 4featured, 4feature, 4family, 4uppe...  2020-04-17 11:46:30   \n\n    rating  duration_sec season episode  \\\n11       M        3555.0    NaN           \n35       G        1621.0    NaN           \n111     PG        3134.0    NaN           \n137      G        1626.0    NaN           \n158      G        1601.0    NaN           \n\n                                 episode_title  \n11                                  Ballet Now  \n35                                         Zog  \n111  Armadillo: Narrated By David Attenborough  \n137                                  Stick Man  \n158                    The Snail And The Whale  ",
      "text/html": "<div>\n<style scoped>\n    .dataframe tbody tr th:only-of-type {\n        vertical-align: middle;\n    }\n\n    .dataframe tbody tr th {\n        vertical-align: top;\n    }\n\n    .dataframe thead th {\n        text-align: right;\n    }\n</style>\n<table border=\"1\" class=\"dataframe\">\n  <thead>\n    <tr style=\"text-align: right;\">\n      <th></th>\n      <th>id</th>\n      <th>category</th>\n      <th>title</th>\n      <th>series</th>\n      <th>episode_name</th>\n      <th>description</th>\n      <th>description2</th>\n      <th>tags</th>\n      <th>image</th>\n      <th>directors_actors</th>\n      <th>tags2</th>\n      <th>publication_date</th>\n      <th>rating</th>\n      <th>duration_sec</th>\n      <th>season</th>\n      <th>episode</th>\n      <th>episode_title</th>\n    </tr>\n  </thead>\n  <tbody>\n    <tr>\n      <th>11</th>\n      <td>11</td>\n      <td>Family</td>\n      <td>Ballet Now</td>\n      <td>NaN</td>\n      <td>Ballet Now</td>\n      <td>This film captures the creative process behind...</td>\n      <td>This film captures the creative process behind...</td>\n      <td>[ABC TV Plus, DOCUMENTARY, ARTS &amp; CULTURE, FAM...</td>\n      <td>https://cdn.iview.abc.net.au/thumbs/i/zw/ZW269...</td>\n      <td>[]</td>\n      <td>[abc2, docs, factual, arts, ballet, dance, cul...</td>\n      <td>2021-06-30 21:59:27</td>\n      <td>M</td>\n      <td>3555.0</td>\n      <td>NaN</td>\n      <td></td>\n      <td>Ballet Now</td>\n    </tr>\n    <tr>\n      <th>35</th>\n      <td>35</td>\n      <td>Family</td>\n      <td>Zog</td>\n      <td>NaN</td>\n      <td>Zog</td>\n      <td>Based on the picture book by Julia Donaldson, ...</td>\n      <td>Based on the picture book by Julia Donaldson, ...</td>\n      <td>[ABC Kids, FAMILY]</td>\n      <td>https://cdn.iview.abc.net.au/thumbs/i/zw/ZW124...</td>\n      <td>[Director Max Lang, Daniel Snaddon]</td>\n      <td>[abc4kids, 4feature, 4featured, abcme-shoulder...</td>\n      <td>2020-04-17 11:45:30</td>\n      <td>G</td>\n      <td>1621.0</td>\n      <td>NaN</td>\n      <td></td>\n      <td>Zog</td>\n    </tr>\n    <tr>\n      <th>111</th>\n      <td>111</td>\n      <td>Family</td>\n      <td>Armadillo: Narrated By David Attenborough</td>\n      <td>NaN</td>\n      <td>Armadillo: Narrated By David Attenborough</td>\n      <td>In the heart of Brazil lives an animal so elus...</td>\n      <td>In the heart of Brazil lives an animal so elus...</td>\n      <td>[ABC TV, DOCUMENTARY, FAMILY]</td>\n      <td>https://cdn.iview.abc.net.au/thumbs/i/zw/ZW311...</td>\n      <td>[Host Sir David Attenborough]</td>\n      <td>[abc1, uk, docs, factual, nature, wildlife, en...</td>\n      <td>2021-09-19 19:41:30</td>\n      <td>PG</td>\n      <td>3134.0</td>\n      <td>NaN</td>\n      <td></td>\n      <td>Armadillo: Narrated By David Attenborough</td>\n    </tr>\n    <tr>\n      <th>137</th>\n      <td>137</td>\n      <td>Family</td>\n      <td>Stick Man</td>\n      <td>NaN</td>\n      <td>Stick Man</td>\n      <td>Stick Man lives in the family tree with his St...</td>\n      <td>Stick Man lives in the family tree with his St...</td>\n      <td>[ABC Kids, FAMILY]</td>\n      <td>https://cdn.iview.abc.net.au/thumbs/i/zw/ZW002...</td>\n      <td>[Director Jeroen Jaspaert, Daniel Snaddon]</td>\n      <td>[abc4kids, family-viewing, 4xmas-features, abc...</td>\n      <td>2020-04-17 11:44:30</td>\n      <td>G</td>\n      <td>1626.0</td>\n      <td>NaN</td>\n      <td></td>\n      <td>Stick Man</td>\n    </tr>\n    <tr>\n      <th>158</th>\n      <td>158</td>\n      <td>Family</td>\n      <td>The Snail And The Whale</td>\n      <td>NaN</td>\n      <td>The Snail And The Whale</td>\n      <td>A beautiful tale of an unlikely friendship, a ...</td>\n      <td>A beautiful tale of an unlikely friendship, a ...</td>\n      <td>[ABC Kids, ABC ME, FAMILY]</td>\n      <td>https://cdn.iview.abc.net.au/thumbs/i/zw/ZW177...</td>\n      <td>[Director Max Lang, Daniel Snaddon]</td>\n      <td>[abc4kids, 4featured, 4feature, 4family, 4uppe...</td>\n      <td>2020-04-17 11:46:30</td>\n      <td>G</td>\n      <td>1601.0</td>\n      <td>NaN</td>\n      <td></td>\n      <td>The Snail And The Whale</td>\n    </tr>\n  </tbody>\n</table>\n</div>"
     },
     "execution_count": 109,
     "metadata": {},
     "output_type": "execute_result"
    }
   ],
   "source": [
    "df.head()"
   ],
   "metadata": {
    "collapsed": false,
    "pycharm": {
     "name": "#%%\n"
    }
   }
  },
  {
   "cell_type": "code",
   "execution_count": 110,
   "outputs": [],
   "source": [
    "#read json file activity\n",
    "activity = pd.read_json('./activities.json')"
   ],
   "metadata": {
    "collapsed": false,
    "pycharm": {
     "name": "#%%\n"
    }
   }
  },
  {
   "cell_type": "code",
   "execution_count": 111,
   "outputs": [
    {
     "data": {
      "text/plain": "   content_id activity  user_id                   datetime\n0         374  Dislike        2 2023-03-19 13:39:37.899777\n1         366     Like        3 2023-03-19 13:39:37.900176\n2         316     Like        4 2023-03-19 13:39:37.900207\n3         167  Dislike        2 2023-03-19 13:39:37.900227\n4          22     Play        3 2023-03-19 13:39:37.900244",
      "text/html": "<div>\n<style scoped>\n    .dataframe tbody tr th:only-of-type {\n        vertical-align: middle;\n    }\n\n    .dataframe tbody tr th {\n        vertical-align: top;\n    }\n\n    .dataframe thead th {\n        text-align: right;\n    }\n</style>\n<table border=\"1\" class=\"dataframe\">\n  <thead>\n    <tr style=\"text-align: right;\">\n      <th></th>\n      <th>content_id</th>\n      <th>activity</th>\n      <th>user_id</th>\n      <th>datetime</th>\n    </tr>\n  </thead>\n  <tbody>\n    <tr>\n      <th>0</th>\n      <td>374</td>\n      <td>Dislike</td>\n      <td>2</td>\n      <td>2023-03-19 13:39:37.899777</td>\n    </tr>\n    <tr>\n      <th>1</th>\n      <td>366</td>\n      <td>Like</td>\n      <td>3</td>\n      <td>2023-03-19 13:39:37.900176</td>\n    </tr>\n    <tr>\n      <th>2</th>\n      <td>316</td>\n      <td>Like</td>\n      <td>4</td>\n      <td>2023-03-19 13:39:37.900207</td>\n    </tr>\n    <tr>\n      <th>3</th>\n      <td>167</td>\n      <td>Dislike</td>\n      <td>2</td>\n      <td>2023-03-19 13:39:37.900227</td>\n    </tr>\n    <tr>\n      <th>4</th>\n      <td>22</td>\n      <td>Play</td>\n      <td>3</td>\n      <td>2023-03-19 13:39:37.900244</td>\n    </tr>\n  </tbody>\n</table>\n</div>"
     },
     "execution_count": 111,
     "metadata": {},
     "output_type": "execute_result"
    }
   ],
   "source": [
    "activity.head()"
   ],
   "metadata": {
    "collapsed": false,
    "pycharm": {
     "name": "#%%\n"
    }
   }
  },
  {
   "cell_type": "code",
   "execution_count": 112,
   "outputs": [],
   "source": [
    "joined = pd.merge(df, activity, left_on='id', right_on='content_id', how='right')"
   ],
   "metadata": {
    "collapsed": false,
    "pycharm": {
     "name": "#%%\n"
    }
   }
  },
  {
   "cell_type": "code",
   "execution_count": 114,
   "outputs": [],
   "source": [
    "#make from list in tag2 column to string and delete [] in the string\n",
    "joined['tags2'] = joined['tags2'].apply(lambda x: str(x).replace('[', '').replace(']', ''))"
   ],
   "metadata": {
    "collapsed": false,
    "pycharm": {
     "name": "#%%\n"
    }
   }
  },
  {
   "cell_type": "code",
   "execution_count": 115,
   "outputs": [],
   "source": [
    "#drop NaN values in id column\n",
    "joined.dropna(subset=['id'], inplace=True)"
   ],
   "metadata": {
    "collapsed": false,
    "pycharm": {
     "name": "#%%\n"
    }
   }
  },
  {
   "cell_type": "code",
   "execution_count": 117,
   "outputs": [
    {
     "data": {
      "text/plain": "(72, 21)"
     },
     "execution_count": 117,
     "metadata": {},
     "output_type": "execute_result"
    }
   ],
   "source": [
    "#check if tag2 column or description, description2, title columns consist of 'australia' or 'Australia'\n",
    "expat_data = joined[joined['tags2'].str.contains('Australia|australia|australian|Australian') | joined['description'].str.contains('Australia|australia|australian|Australian') | joined['description2'].str.contains('Australia|australia|australian|Australian') | joined['title'].str.contains('Australia|australia|australian|Australian')\n",
    "]\n",
    "#dataframe (movies) about Australia\n",
    "expat_data.shape"
   ],
   "metadata": {
    "collapsed": false,
    "pycharm": {
     "name": "#%%\n"
    }
   }
  },
  {
   "cell_type": "code",
   "execution_count": null,
   "outputs": [],
   "source": [],
   "metadata": {
    "collapsed": false,
    "pycharm": {
     "name": "#%%\n"
    }
   }
  }
 ],
 "metadata": {
  "kernelspec": {
   "display_name": "Python 3",
   "language": "python",
   "name": "python3"
  },
  "language_info": {
   "codemirror_mode": {
    "name": "ipython",
    "version": 2
   },
   "file_extension": ".py",
   "mimetype": "text/x-python",
   "name": "python",
   "nbconvert_exporter": "python",
   "pygments_lexer": "ipython2",
   "version": "2.7.6"
  }
 },
 "nbformat": 4,
 "nbformat_minor": 0
}